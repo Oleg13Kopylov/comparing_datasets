{
  "cells": [
    {
      "cell_type": "markdown",
      "source": [
        "# Описание\n",
        "\n",
        "В этом ноутбуке загружаются две модели Roberta: одна модель обучена на отзывах на отели, другая модель обучена на отзывах на фильмы. Модели загружаются из google drive. Сами модели были обучены с сохранены в google drive в ноутбуках \n",
        "\n",
        "roberta_applied_to_movies_21_december.ipynb\n",
        "\n",
        "roberta_applied_to_hotels_21_december.ipynb\n",
        "\n",
        "**В конце ноутбука приведен dataframe с результатами тестирования каждой из моделей на каждом из датасетов (один датасет с отзывами на отели, другой датасет – с отзывами на фильмы).**"
      ],
      "metadata": {
        "id": "WAdmuCNl8til"
      }
    },
    {
      "cell_type": "code",
      "execution_count": null,
      "metadata": {
        "colab": {
          "base_uri": "https://localhost:8080/"
        },
        "id": "ta0VCrq5Q7p0",
        "outputId": "47dc051c-73b9-4995-d39a-056a1965d4dd"
      },
      "outputs": [
        {
          "name": "stdout",
          "output_type": "stream",
          "text": [
            "Looking in indexes: https://pypi.org/simple, https://us-python.pkg.dev/colab-wheels/public/simple/\n",
            "Requirement already satisfied: tensorflow-text in /usr/local/lib/python3.8/dist-packages (2.11.0)\n",
            "Requirement already satisfied: tensorflow<2.12,>=2.11.0 in /usr/local/lib/python3.8/dist-packages (from tensorflow-text) (2.11.0)\n",
            "Requirement already satisfied: tensorflow-hub>=0.8.0 in /usr/local/lib/python3.8/dist-packages (from tensorflow-text) (0.12.0)\n",
            "Requirement already satisfied: termcolor>=1.1.0 in /usr/local/lib/python3.8/dist-packages (from tensorflow<2.12,>=2.11.0->tensorflow-text) (2.1.1)\n",
            "Requirement already satisfied: h5py>=2.9.0 in /usr/local/lib/python3.8/dist-packages (from tensorflow<2.12,>=2.11.0->tensorflow-text) (3.1.0)\n",
            "Requirement already satisfied: tensorboard<2.12,>=2.11 in /usr/local/lib/python3.8/dist-packages (from tensorflow<2.12,>=2.11.0->tensorflow-text) (2.11.0)\n",
            "Requirement already satisfied: numpy>=1.20 in /usr/local/lib/python3.8/dist-packages (from tensorflow<2.12,>=2.11.0->tensorflow-text) (1.21.6)\n",
            "Requirement already satisfied: six>=1.12.0 in /usr/local/lib/python3.8/dist-packages (from tensorflow<2.12,>=2.11.0->tensorflow-text) (1.15.0)\n",
            "Requirement already satisfied: tensorflow-io-gcs-filesystem>=0.23.1 in /usr/local/lib/python3.8/dist-packages (from tensorflow<2.12,>=2.11.0->tensorflow-text) (0.28.0)\n",
            "Requirement already satisfied: grpcio<2.0,>=1.24.3 in /usr/local/lib/python3.8/dist-packages (from tensorflow<2.12,>=2.11.0->tensorflow-text) (1.51.1)\n",
            "Requirement already satisfied: protobuf<3.20,>=3.9.2 in /usr/local/lib/python3.8/dist-packages (from tensorflow<2.12,>=2.11.0->tensorflow-text) (3.19.6)\n",
            "Requirement already satisfied: typing-extensions>=3.6.6 in /usr/local/lib/python3.8/dist-packages (from tensorflow<2.12,>=2.11.0->tensorflow-text) (4.4.0)\n",
            "Requirement already satisfied: opt-einsum>=2.3.2 in /usr/local/lib/python3.8/dist-packages (from tensorflow<2.12,>=2.11.0->tensorflow-text) (3.3.0)\n",
            "Requirement already satisfied: google-pasta>=0.1.1 in /usr/local/lib/python3.8/dist-packages (from tensorflow<2.12,>=2.11.0->tensorflow-text) (0.2.0)\n",
            "Requirement already satisfied: tensorflow-estimator<2.12,>=2.11.0 in /usr/local/lib/python3.8/dist-packages (from tensorflow<2.12,>=2.11.0->tensorflow-text) (2.11.0)\n",
            "Requirement already satisfied: astunparse>=1.6.0 in /usr/local/lib/python3.8/dist-packages (from tensorflow<2.12,>=2.11.0->tensorflow-text) (1.6.3)\n",
            "Requirement already satisfied: setuptools in /usr/local/lib/python3.8/dist-packages (from tensorflow<2.12,>=2.11.0->tensorflow-text) (57.4.0)\n",
            "Requirement already satisfied: flatbuffers>=2.0 in /usr/local/lib/python3.8/dist-packages (from tensorflow<2.12,>=2.11.0->tensorflow-text) (22.12.6)\n",
            "Requirement already satisfied: absl-py>=1.0.0 in /usr/local/lib/python3.8/dist-packages (from tensorflow<2.12,>=2.11.0->tensorflow-text) (1.3.0)\n",
            "Requirement already satisfied: gast<=0.4.0,>=0.2.1 in /usr/local/lib/python3.8/dist-packages (from tensorflow<2.12,>=2.11.0->tensorflow-text) (0.4.0)\n",
            "Requirement already satisfied: keras<2.12,>=2.11.0 in /usr/local/lib/python3.8/dist-packages (from tensorflow<2.12,>=2.11.0->tensorflow-text) (2.11.0)\n",
            "Requirement already satisfied: libclang>=13.0.0 in /usr/local/lib/python3.8/dist-packages (from tensorflow<2.12,>=2.11.0->tensorflow-text) (14.0.6)\n",
            "Requirement already satisfied: packaging in /usr/local/lib/python3.8/dist-packages (from tensorflow<2.12,>=2.11.0->tensorflow-text) (21.3)\n",
            "Requirement already satisfied: wrapt>=1.11.0 in /usr/local/lib/python3.8/dist-packages (from tensorflow<2.12,>=2.11.0->tensorflow-text) (1.14.1)\n",
            "Requirement already satisfied: wheel<1.0,>=0.23.0 in /usr/local/lib/python3.8/dist-packages (from astunparse>=1.6.0->tensorflow<2.12,>=2.11.0->tensorflow-text) (0.38.4)\n",
            "Requirement already satisfied: tensorboard-plugin-wit>=1.6.0 in /usr/local/lib/python3.8/dist-packages (from tensorboard<2.12,>=2.11->tensorflow<2.12,>=2.11.0->tensorflow-text) (1.8.1)\n",
            "Requirement already satisfied: werkzeug>=1.0.1 in /usr/local/lib/python3.8/dist-packages (from tensorboard<2.12,>=2.11->tensorflow<2.12,>=2.11.0->tensorflow-text) (1.0.1)\n",
            "Requirement already satisfied: markdown>=2.6.8 in /usr/local/lib/python3.8/dist-packages (from tensorboard<2.12,>=2.11->tensorflow<2.12,>=2.11.0->tensorflow-text) (3.4.1)\n",
            "Requirement already satisfied: google-auth<3,>=1.6.3 in /usr/local/lib/python3.8/dist-packages (from tensorboard<2.12,>=2.11->tensorflow<2.12,>=2.11.0->tensorflow-text) (2.15.0)\n",
            "Requirement already satisfied: google-auth-oauthlib<0.5,>=0.4.1 in /usr/local/lib/python3.8/dist-packages (from tensorboard<2.12,>=2.11->tensorflow<2.12,>=2.11.0->tensorflow-text) (0.4.6)\n",
            "Requirement already satisfied: requests<3,>=2.21.0 in /usr/local/lib/python3.8/dist-packages (from tensorboard<2.12,>=2.11->tensorflow<2.12,>=2.11.0->tensorflow-text) (2.23.0)\n",
            "Requirement already satisfied: tensorboard-data-server<0.7.0,>=0.6.0 in /usr/local/lib/python3.8/dist-packages (from tensorboard<2.12,>=2.11->tensorflow<2.12,>=2.11.0->tensorflow-text) (0.6.1)\n",
            "Requirement already satisfied: rsa<5,>=3.1.4 in /usr/local/lib/python3.8/dist-packages (from google-auth<3,>=1.6.3->tensorboard<2.12,>=2.11->tensorflow<2.12,>=2.11.0->tensorflow-text) (4.9)\n",
            "Requirement already satisfied: pyasn1-modules>=0.2.1 in /usr/local/lib/python3.8/dist-packages (from google-auth<3,>=1.6.3->tensorboard<2.12,>=2.11->tensorflow<2.12,>=2.11.0->tensorflow-text) (0.2.8)\n",
            "Requirement already satisfied: cachetools<6.0,>=2.0.0 in /usr/local/lib/python3.8/dist-packages (from google-auth<3,>=1.6.3->tensorboard<2.12,>=2.11->tensorflow<2.12,>=2.11.0->tensorflow-text) (5.2.0)\n",
            "Requirement already satisfied: requests-oauthlib>=0.7.0 in /usr/local/lib/python3.8/dist-packages (from google-auth-oauthlib<0.5,>=0.4.1->tensorboard<2.12,>=2.11->tensorflow<2.12,>=2.11.0->tensorflow-text) (1.3.1)\n",
            "Requirement already satisfied: importlib-metadata>=4.4 in /usr/local/lib/python3.8/dist-packages (from markdown>=2.6.8->tensorboard<2.12,>=2.11->tensorflow<2.12,>=2.11.0->tensorflow-text) (5.1.0)\n",
            "Requirement already satisfied: zipp>=0.5 in /usr/local/lib/python3.8/dist-packages (from importlib-metadata>=4.4->markdown>=2.6.8->tensorboard<2.12,>=2.11->tensorflow<2.12,>=2.11.0->tensorflow-text) (3.11.0)\n",
            "Requirement already satisfied: pyasn1<0.5.0,>=0.4.6 in /usr/local/lib/python3.8/dist-packages (from pyasn1-modules>=0.2.1->google-auth<3,>=1.6.3->tensorboard<2.12,>=2.11->tensorflow<2.12,>=2.11.0->tensorflow-text) (0.4.8)\n",
            "Requirement already satisfied: certifi>=2017.4.17 in /usr/local/lib/python3.8/dist-packages (from requests<3,>=2.21.0->tensorboard<2.12,>=2.11->tensorflow<2.12,>=2.11.0->tensorflow-text) (2022.12.7)\n",
            "Requirement already satisfied: chardet<4,>=3.0.2 in /usr/local/lib/python3.8/dist-packages (from requests<3,>=2.21.0->tensorboard<2.12,>=2.11->tensorflow<2.12,>=2.11.0->tensorflow-text) (3.0.4)\n",
            "Requirement already satisfied: urllib3!=1.25.0,!=1.25.1,<1.26,>=1.21.1 in /usr/local/lib/python3.8/dist-packages (from requests<3,>=2.21.0->tensorboard<2.12,>=2.11->tensorflow<2.12,>=2.11.0->tensorflow-text) (1.24.3)\n",
            "Requirement already satisfied: idna<3,>=2.5 in /usr/local/lib/python3.8/dist-packages (from requests<3,>=2.21.0->tensorboard<2.12,>=2.11->tensorflow<2.12,>=2.11.0->tensorflow-text) (2.10)\n",
            "Requirement already satisfied: oauthlib>=3.0.0 in /usr/local/lib/python3.8/dist-packages (from requests-oauthlib>=0.7.0->google-auth-oauthlib<0.5,>=0.4.1->tensorboard<2.12,>=2.11->tensorflow<2.12,>=2.11.0->tensorflow-text) (3.2.2)\n",
            "Requirement already satisfied: pyparsing!=3.0.5,>=2.0.2 in /usr/local/lib/python3.8/dist-packages (from packaging->tensorflow<2.12,>=2.11.0->tensorflow-text) (3.0.9)\n",
            "Looking in indexes: https://pypi.org/simple, https://us-python.pkg.dev/colab-wheels/public/simple/\n",
            "Requirement already satisfied: transformers in /usr/local/lib/python3.8/dist-packages (4.25.1)\n",
            "Requirement already satisfied: requests in /usr/local/lib/python3.8/dist-packages (from transformers) (2.23.0)\n",
            "Requirement already satisfied: packaging>=20.0 in /usr/local/lib/python3.8/dist-packages (from transformers) (21.3)\n",
            "Requirement already satisfied: filelock in /usr/local/lib/python3.8/dist-packages (from transformers) (3.8.2)\n",
            "Requirement already satisfied: regex!=2019.12.17 in /usr/local/lib/python3.8/dist-packages (from transformers) (2022.6.2)\n",
            "Requirement already satisfied: tqdm>=4.27 in /usr/local/lib/python3.8/dist-packages (from transformers) (4.64.1)\n",
            "Requirement already satisfied: numpy>=1.17 in /usr/local/lib/python3.8/dist-packages (from transformers) (1.21.6)\n",
            "Requirement already satisfied: tokenizers!=0.11.3,<0.14,>=0.11.1 in /usr/local/lib/python3.8/dist-packages (from transformers) (0.13.2)\n",
            "Requirement already satisfied: huggingface-hub<1.0,>=0.10.0 in /usr/local/lib/python3.8/dist-packages (from transformers) (0.11.1)\n",
            "Requirement already satisfied: pyyaml>=5.1 in /usr/local/lib/python3.8/dist-packages (from transformers) (6.0)\n",
            "Requirement already satisfied: typing-extensions>=3.7.4.3 in /usr/local/lib/python3.8/dist-packages (from huggingface-hub<1.0,>=0.10.0->transformers) (4.4.0)\n",
            "Requirement already satisfied: pyparsing!=3.0.5,>=2.0.2 in /usr/local/lib/python3.8/dist-packages (from packaging>=20.0->transformers) (3.0.9)\n",
            "Requirement already satisfied: certifi>=2017.4.17 in /usr/local/lib/python3.8/dist-packages (from requests->transformers) (2022.12.7)\n",
            "Requirement already satisfied: idna<3,>=2.5 in /usr/local/lib/python3.8/dist-packages (from requests->transformers) (2.10)\n",
            "Requirement already satisfied: chardet<4,>=3.0.2 in /usr/local/lib/python3.8/dist-packages (from requests->transformers) (3.0.4)\n",
            "Requirement already satisfied: urllib3!=1.25.0,!=1.25.1,<1.26,>=1.21.1 in /usr/local/lib/python3.8/dist-packages (from requests->transformers) (1.24.3)\n",
            "Drive already mounted at /content/drive; to attempt to forcibly remount, call drive.mount(\"/content/drive\", force_remount=True).\n"
          ]
        }
      ],
      "source": [
        "!pip install tensorflow-text\n",
        "!pip install transformers\n",
        "import tensorflow_text as text\n",
        "\n",
        "import tensorflow as tf\n",
        "import tensorflow_hub as hub\n",
        "import pandas as pd\n",
        "\n",
        "from sklearn.metrics import accuracy_score, precision_score, recall_score, f1_score\n",
        "\n",
        "from keras.models import load_model\n",
        "import numpy as np\n",
        "\n",
        "from google.colab import drive\n",
        "drive.mount('/content/drive')\n",
        "\n",
        "from transformers import RobertaTokenizerFast"
      ]
    },
    {
      "cell_type": "code",
      "execution_count": null,
      "metadata": {
        "id": "aIbUfywTRWLi"
      },
      "outputs": [],
      "source": [
        "hotel_reviews = 'hotel_reviews'\n",
        "movie_reviews = 'movie_reviews'\n",
        "roberta_trained_on_movie_reviews = 'roberta_trained_on_movie_reviews'\n",
        "roberta_trained_on_hotel_reviews = 'roberta_trained_on_hotel_reviews'"
      ]
    },
    {
      "cell_type": "code",
      "execution_count": null,
      "metadata": {
        "id": "C0mklOBYRcmu"
      },
      "outputs": [],
      "source": [
        "models_dict = dict()\n",
        "models_dict[roberta_trained_on_movie_reviews] = load_model('/content/drive/MyDrive/data_for_colab/roberta_trained_on_imdb_21_december')\n",
        "models_dict[roberta_trained_on_hotel_reviews] = load_model('/content/drive/MyDrive/data_for_colab/roberta_trained_on_hotel_reviews_21_december')"
      ]
    },
    {
      "cell_type": "code",
      "execution_count": null,
      "metadata": {
        "id": "UopGjtlTSCrK"
      },
      "outputs": [],
      "source": [
        "path_to_movie_reviews_dataset = '/content/drive/MyDrive/data_for_colab/IMDB Dataset.csv'\n",
        "path_to_hotel_reviews_dataset = '/content/drive/MyDrive/data_for_colab/tripadvisor_hotel_reviews.csv'"
      ]
    },
    {
      "cell_type": "markdown",
      "metadata": {
        "id": "m102kw8LSXvp"
      },
      "source": [
        "Redo working with text data"
      ]
    },
    {
      "cell_type": "code",
      "execution_count": null,
      "metadata": {
        "id": "IprN_Ln5Sx1I"
      },
      "outputs": [],
      "source": [
        "MAX_LEN = 128\n",
        "tokenizer_roberta = RobertaTokenizerFast.from_pretrained(\"roberta-base\")"
      ]
    },
    {
      "cell_type": "code",
      "execution_count": null,
      "metadata": {
        "id": "R5Abf-XTSGgK"
      },
      "outputs": [],
      "source": [
        "def test_model_on_dataset_and_write_results_to_dataframe(model_name=None, dataset_name=None, dataframe_to_write_answer=None):\n",
        "\n",
        "    global hotel_reviews, movie_reviews\n",
        "    global bert_trained_on_movie_reviews\n",
        "    global bert_trained_on_hotel_reviews\n",
        "    global models_dict\n",
        "    global path_to_hotel_reviews_dataset\n",
        "    global path_to_movie_reviews_dataset\n",
        "    global MAX_LEN, tokenizer_roberta\n",
        "\n",
        "    \n",
        "\n",
        "    def tokenize_roberta(data,max_len=MAX_LEN) :\n",
        "        input_ids = []\n",
        "        attention_masks = []\n",
        "        for i in range(len(data)):\n",
        "            encoded = tokenizer_roberta.encode_plus(\n",
        "                data[i],\n",
        "                add_special_tokens=True,\n",
        "                max_length=max_len,\n",
        "                padding='max_length',\n",
        "                return_attention_mask=True\n",
        "            )\n",
        "            input_ids.append(encoded['input_ids'])\n",
        "            attention_masks.append(encoded['attention_mask'])\n",
        "        return np.array(input_ids),np.array(attention_masks)\n",
        "\n",
        "\n",
        "    if model_name is None or dataset_name is None or dataframe_to_write_answer is None:\n",
        "        raise ValueError(\"Wrong arguments passed to function: there are none arguments!\")\n",
        "    if model_name != roberta_trained_on_movie_reviews and model_name != roberta_trained_on_hotel_reviews:\n",
        "        raise ValueError(\"Wrong model_name!\")\n",
        "    if dataset_name != movie_reviews and dataset_name != hotel_reviews:\n",
        "        raise ValueError(\"Wrong dataset_name!\")\n",
        "\n",
        "    model = models_dict[model_name] # загрузили пользователем заданную модель \n",
        "    # (она уже обучена на определенном датасете)\n",
        "\n",
        "    if dataset_name == movie_reviews: # if you edit this line, edit the next line too!\n",
        "        df = pd.read_csv(path_to_movie_reviews_dataset)\n",
        "        df['is_positive'] = (df['sentiment'] == 'positive').astype(int)\n",
        "        df.drop(columns=['sentiment'], inplace=True)\n",
        "        df.columns = ['DATA_COLUMN', 'LABEL_COLUMN']\n",
        "        parameter_const = 2.2 # подобрали\n",
        "        df['DATA_COLUMN'] = df['DATA_COLUMN'].apply(lambda x: x[:round(MAX_LEN * parameter_const)])\n",
        "        df_positive = df[df['LABEL_COLUMN']==1]\n",
        "        df_negative = df[df['LABEL_COLUMN']==0]\n",
        "        # Для тестовой выборки берем последние 10% негативных отзывов и последние 10% позитивных отзывов\n",
        "        n_test = df_negative.shape[0] // 10 # в оригинале df_negative.shape[0] // 10\n",
        "        df_negative_test = df_negative.tail(n_test)\n",
        "        n_test = df_positive.shape[0] // 10 # в оригинале df_positive.shape[0] // 10\n",
        "        df_positive_test = df_positive.tail(n_test)\n",
        "        df_balanced_test = pd.concat([df_negative_test, df_positive_test])\n",
        "\n",
        "    elif dataset_name == hotel_reviews: # if you edit this line, edit the next line too!\n",
        "        df = pd.read_csv(path_to_hotel_reviews_dataset)\n",
        "        df = df[df.Rating != 3]\n",
        "        df['is_positive'] = (df['Rating'] >= 4).astype(int)\n",
        "        df.drop(columns=['Rating'], inplace=True)\n",
        "        df.columns = ['DATA_COLUMN', 'LABEL_COLUMN']\n",
        "        parameter_const = 3 # подобрали\n",
        "        df['DATA_COLUMN'] = df['DATA_COLUMN'].apply(lambda x: x[:round(MAX_LEN * parameter_const)])\n",
        "        df_positive = df[df['LABEL_COLUMN']==1]\n",
        "        df_negative = df[df['LABEL_COLUMN']==0]\n",
        "        # Тестовая выборка\n",
        "        n_test = (df_negative.shape[0] // 4) * 3 #  в оригинале (df_negative.shape[0] // 4) * 3\n",
        "        df_negative_test = df_negative.tail(n_test)\n",
        "        n_test = (df_positive.shape[0] // 20) * 3 #  в оригинале  (df_positive.shape[0] // 20) * 3\n",
        "        df_positive_test = df_positive.tail(n_test)\n",
        "        df_balanced_test = pd.concat([df_negative_test, df_positive_test])\n",
        "\n",
        "    X_test = df_balanced_test['DATA_COLUMN'].squeeze().values\n",
        "    y_test = df_balanced_test['LABEL_COLUMN'].squeeze().values\n",
        "    test_input_ids, test_attention_masks = tokenize_roberta(X_test, MAX_LEN)\n",
        "\n",
        "    y_predicted = model.predict([test_input_ids,test_attention_masks])\n",
        "    y_predicted = np.where(y_predicted > 0.5, 1, 0)\n",
        "\n",
        "    row_name_in_dataframe_to_write_answer = model_name + ' tested on ' + dataset_name + ' dataset'\n",
        "\n",
        "    dataframe_to_write_answer.loc[row_name_in_dataframe_to_write_answer, 'accuracy'] = accuracy_score(y_test, y_predicted)\n",
        "    dataframe_to_write_answer.loc[row_name_in_dataframe_to_write_answer, 'precision'] = precision_score(y_test, y_predicted)\n",
        "    dataframe_to_write_answer.loc[row_name_in_dataframe_to_write_answer, 'recall'] = recall_score(y_test, y_predicted)\n",
        "    dataframe_to_write_answer.loc[row_name_in_dataframe_to_write_answer, 'f1_score'] =  f1_score(y_test, y_predicted)\n",
        "    print(model_name, ' on dataset', dataset_name, 'result', accuracy_score(y_test, y_predicted), precision_score(y_test, y_predicted), recall_score(y_test, y_predicted), f1_score(y_test, y_predicted) )"
      ]
    },
    {
      "cell_type": "code",
      "execution_count": null,
      "metadata": {
        "id": "iE0zJs3xTyEH"
      },
      "outputs": [],
      "source": [
        "answer_dataframe_roberta = pd.DataFrame(columns=['accuracy', 'precision', 'recall', 'f1_score'])"
      ]
    },
    {
      "cell_type": "code",
      "execution_count": null,
      "metadata": {
        "colab": {
          "base_uri": "https://localhost:8080/"
        },
        "id": "Q7Z0wNgXVW3l",
        "outputId": "13d3f247-8a53-4558-8d08-1f881f3dabc8"
      },
      "outputs": [
        {
          "output_type": "stream",
          "name": "stdout",
          "text": [
            "146/146 [==============================] - 1793s 12s/step\n",
            "roberta_trained_on_hotel_reviews  on dataset hotel_reviews result 0.9257118390066367 0.9318899413622012 0.9133510167992926 0.9225273498548784\n",
            "157/157 [==============================] - 1899s 12s/step\n",
            "roberta_trained_on_hotel_reviews  on dataset movie_reviews result 0.6938 0.8794048551292091 0.4492 0.5946518400847233\n",
            "146/146 [==============================] - 1776s 12s/step\n",
            "roberta_trained_on_movie_reviews  on dataset hotel_reviews result 0.7096981374438022 0.626183844011142 0.9938107869142352 0.7682843472317157\n",
            "157/157 [==============================] - 1900s 12s/step\n",
            "roberta_trained_on_movie_reviews  on dataset movie_reviews result 0.8378 0.8376649340263894 0.838 0.8378324335132973\n"
          ]
        }
      ],
      "source": [
        "for cur_model_name in [roberta_trained_on_hotel_reviews, roberta_trained_on_movie_reviews]:\n",
        "    for cur_dataset_name in [hotel_reviews, movie_reviews]:\n",
        "        test_model_on_dataset_and_write_results_to_dataframe(cur_model_name, cur_dataset_name, answer_dataframe_roberta)"
      ]
    },
    {
      "cell_type": "code",
      "execution_count": null,
      "metadata": {
        "id": "RwMDFkCDVarR",
        "colab": {
          "base_uri": "https://localhost:8080/",
          "height": 175
        },
        "outputId": "36dbfa9d-f686-4c55-b3d2-9f05937be1ce"
      },
      "outputs": [
        {
          "output_type": "execute_result",
          "data": {
            "text/plain": [
              "                                                    accuracy precision  \\\n",
              "roberta_trained_on_hotel_reviews tested on hote...  0.925712   0.93189   \n",
              "roberta_trained_on_hotel_reviews tested on movi...    0.6938  0.879405   \n",
              "roberta_trained_on_movie_reviews tested on hote...  0.709698  0.626184   \n",
              "roberta_trained_on_movie_reviews tested on movi...    0.8378  0.837665   \n",
              "\n",
              "                                                      recall  f1_score  \n",
              "roberta_trained_on_hotel_reviews tested on hote...  0.913351  0.922527  \n",
              "roberta_trained_on_hotel_reviews tested on movi...    0.4492  0.594652  \n",
              "roberta_trained_on_movie_reviews tested on hote...  0.993811  0.768284  \n",
              "roberta_trained_on_movie_reviews tested on movi...     0.838  0.837832  "
            ],
            "text/html": [
              "\n",
              "  <div id=\"df-85524e43-c3ed-417e-9e2d-0cc739f55fae\">\n",
              "    <div class=\"colab-df-container\">\n",
              "      <div>\n",
              "<style scoped>\n",
              "    .dataframe tbody tr th:only-of-type {\n",
              "        vertical-align: middle;\n",
              "    }\n",
              "\n",
              "    .dataframe tbody tr th {\n",
              "        vertical-align: top;\n",
              "    }\n",
              "\n",
              "    .dataframe thead th {\n",
              "        text-align: right;\n",
              "    }\n",
              "</style>\n",
              "<table border=\"1\" class=\"dataframe\">\n",
              "  <thead>\n",
              "    <tr style=\"text-align: right;\">\n",
              "      <th></th>\n",
              "      <th>accuracy</th>\n",
              "      <th>precision</th>\n",
              "      <th>recall</th>\n",
              "      <th>f1_score</th>\n",
              "    </tr>\n",
              "  </thead>\n",
              "  <tbody>\n",
              "    <tr>\n",
              "      <th>roberta_trained_on_hotel_reviews tested on hotel_reviews dataset</th>\n",
              "      <td>0.925712</td>\n",
              "      <td>0.93189</td>\n",
              "      <td>0.913351</td>\n",
              "      <td>0.922527</td>\n",
              "    </tr>\n",
              "    <tr>\n",
              "      <th>roberta_trained_on_hotel_reviews tested on movie_reviews dataset</th>\n",
              "      <td>0.6938</td>\n",
              "      <td>0.879405</td>\n",
              "      <td>0.4492</td>\n",
              "      <td>0.594652</td>\n",
              "    </tr>\n",
              "    <tr>\n",
              "      <th>roberta_trained_on_movie_reviews tested on hotel_reviews dataset</th>\n",
              "      <td>0.709698</td>\n",
              "      <td>0.626184</td>\n",
              "      <td>0.993811</td>\n",
              "      <td>0.768284</td>\n",
              "    </tr>\n",
              "    <tr>\n",
              "      <th>roberta_trained_on_movie_reviews tested on movie_reviews dataset</th>\n",
              "      <td>0.8378</td>\n",
              "      <td>0.837665</td>\n",
              "      <td>0.838</td>\n",
              "      <td>0.837832</td>\n",
              "    </tr>\n",
              "  </tbody>\n",
              "</table>\n",
              "</div>\n",
              "      <button class=\"colab-df-convert\" onclick=\"convertToInteractive('df-85524e43-c3ed-417e-9e2d-0cc739f55fae')\"\n",
              "              title=\"Convert this dataframe to an interactive table.\"\n",
              "              style=\"display:none;\">\n",
              "        \n",
              "  <svg xmlns=\"http://www.w3.org/2000/svg\" height=\"24px\"viewBox=\"0 0 24 24\"\n",
              "       width=\"24px\">\n",
              "    <path d=\"M0 0h24v24H0V0z\" fill=\"none\"/>\n",
              "    <path d=\"M18.56 5.44l.94 2.06.94-2.06 2.06-.94-2.06-.94-.94-2.06-.94 2.06-2.06.94zm-11 1L8.5 8.5l.94-2.06 2.06-.94-2.06-.94L8.5 2.5l-.94 2.06-2.06.94zm10 10l.94 2.06.94-2.06 2.06-.94-2.06-.94-.94-2.06-.94 2.06-2.06.94z\"/><path d=\"M17.41 7.96l-1.37-1.37c-.4-.4-.92-.59-1.43-.59-.52 0-1.04.2-1.43.59L10.3 9.45l-7.72 7.72c-.78.78-.78 2.05 0 2.83L4 21.41c.39.39.9.59 1.41.59.51 0 1.02-.2 1.41-.59l7.78-7.78 2.81-2.81c.8-.78.8-2.07 0-2.86zM5.41 20L4 18.59l7.72-7.72 1.47 1.35L5.41 20z\"/>\n",
              "  </svg>\n",
              "      </button>\n",
              "      \n",
              "  <style>\n",
              "    .colab-df-container {\n",
              "      display:flex;\n",
              "      flex-wrap:wrap;\n",
              "      gap: 12px;\n",
              "    }\n",
              "\n",
              "    .colab-df-convert {\n",
              "      background-color: #E8F0FE;\n",
              "      border: none;\n",
              "      border-radius: 50%;\n",
              "      cursor: pointer;\n",
              "      display: none;\n",
              "      fill: #1967D2;\n",
              "      height: 32px;\n",
              "      padding: 0 0 0 0;\n",
              "      width: 32px;\n",
              "    }\n",
              "\n",
              "    .colab-df-convert:hover {\n",
              "      background-color: #E2EBFA;\n",
              "      box-shadow: 0px 1px 2px rgba(60, 64, 67, 0.3), 0px 1px 3px 1px rgba(60, 64, 67, 0.15);\n",
              "      fill: #174EA6;\n",
              "    }\n",
              "\n",
              "    [theme=dark] .colab-df-convert {\n",
              "      background-color: #3B4455;\n",
              "      fill: #D2E3FC;\n",
              "    }\n",
              "\n",
              "    [theme=dark] .colab-df-convert:hover {\n",
              "      background-color: #434B5C;\n",
              "      box-shadow: 0px 1px 3px 1px rgba(0, 0, 0, 0.15);\n",
              "      filter: drop-shadow(0px 1px 2px rgba(0, 0, 0, 0.3));\n",
              "      fill: #FFFFFF;\n",
              "    }\n",
              "  </style>\n",
              "\n",
              "      <script>\n",
              "        const buttonEl =\n",
              "          document.querySelector('#df-85524e43-c3ed-417e-9e2d-0cc739f55fae button.colab-df-convert');\n",
              "        buttonEl.style.display =\n",
              "          google.colab.kernel.accessAllowed ? 'block' : 'none';\n",
              "\n",
              "        async function convertToInteractive(key) {\n",
              "          const element = document.querySelector('#df-85524e43-c3ed-417e-9e2d-0cc739f55fae');\n",
              "          const dataTable =\n",
              "            await google.colab.kernel.invokeFunction('convertToInteractive',\n",
              "                                                     [key], {});\n",
              "          if (!dataTable) return;\n",
              "\n",
              "          const docLinkHtml = 'Like what you see? Visit the ' +\n",
              "            '<a target=\"_blank\" href=https://colab.research.google.com/notebooks/data_table.ipynb>data table notebook</a>'\n",
              "            + ' to learn more about interactive tables.';\n",
              "          element.innerHTML = '';\n",
              "          dataTable['output_type'] = 'display_data';\n",
              "          await google.colab.output.renderOutput(dataTable, element);\n",
              "          const docLink = document.createElement('div');\n",
              "          docLink.innerHTML = docLinkHtml;\n",
              "          element.appendChild(docLink);\n",
              "        }\n",
              "      </script>\n",
              "    </div>\n",
              "  </div>\n",
              "  "
            ]
          },
          "metadata": {},
          "execution_count": 9
        }
      ],
      "source": [
        "answer_dataframe_roberta"
      ]
    }
  ],
  "metadata": {
    "colab": {
      "provenance": []
    },
    "kernelspec": {
      "display_name": "Python 3",
      "name": "python3"
    },
    "language_info": {
      "name": "python"
    }
  },
  "nbformat": 4,
  "nbformat_minor": 0
}