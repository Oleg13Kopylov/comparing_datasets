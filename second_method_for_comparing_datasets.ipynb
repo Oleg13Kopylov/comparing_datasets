{
  "cells": [
    {
      "cell_type": "markdown",
      "metadata": {
        "id": "emMEEWdZWzpX"
      },
      "source": [
        "# В этом ноутбуке представлена вторая гипотеза для оценки сходства датасетов, а также реализован метод сравнения датасетов в соответствии со второй гипотезой."
      ]
    },
    {
      "cell_type": "markdown",
      "metadata": {
        "id": "IRBZ0QKN8lTf"
      },
      "source": [
        "**Вторая гипотеза** для метода оценки сходства датасетов:\n",
        "\n",
        "_Сходство датасетов может быть связано со схожестью их текстового содержания, которое отражается в близких средних значениях эмбеддингов._\n",
        "\n",
        "-------------------\n",
        "\n",
        "Поэтому **метод сравнения датасетов** следующий:\n",
        "\n",
        "Cделать векторные представления от каждого текста из датасета (например, с помощью bert) и усреднить. Для разных датасетов сравнить полученный эмбеддинг, например, с помощью cosine_similarity. Чем больше полученное значение, тем более похожими являются полученные усредненные эмбеддинги и, по нашей гипотезе, тем больше сходство сравниваемых датасетов."
      ]
    },
    {
      "cell_type": "code",
      "execution_count": 1,
      "metadata": {
        "colab": {
          "base_uri": "https://localhost:8080/"
        },
        "id": "NDBb31cllHNo",
        "outputId": "2b75a18a-b55a-46df-87ab-c558f1fbf7bc"
      },
      "outputs": [
        {
          "output_type": "stream",
          "name": "stdout",
          "text": [
            "Drive already mounted at /content/drive; to attempt to forcibly remount, call drive.mount(\"/content/drive\", force_remount=True).\n",
            "Looking in indexes: https://pypi.org/simple, https://us-python.pkg.dev/colab-wheels/public/simple/\n",
            "Requirement already satisfied: simpletransformers in /usr/local/lib/python3.8/dist-packages (0.63.9)\n",
            "Requirement already satisfied: pandas in /usr/local/lib/python3.8/dist-packages (from simpletransformers) (1.3.5)\n",
            "Requirement already satisfied: sentencepiece in /usr/local/lib/python3.8/dist-packages (from simpletransformers) (0.1.97)\n",
            "Requirement already satisfied: requests in /usr/local/lib/python3.8/dist-packages (from simpletransformers) (2.25.1)\n",
            "Requirement already satisfied: tqdm>=4.47.0 in /usr/local/lib/python3.8/dist-packages (from simpletransformers) (4.64.1)\n",
            "Requirement already satisfied: tokenizers in /usr/local/lib/python3.8/dist-packages (from simpletransformers) (0.13.2)\n",
            "Requirement already satisfied: numpy in /usr/local/lib/python3.8/dist-packages (from simpletransformers) (1.21.6)\n",
            "Requirement already satisfied: wandb>=0.10.32 in /usr/local/lib/python3.8/dist-packages (from simpletransformers) (0.13.10)\n",
            "Requirement already satisfied: datasets in /usr/local/lib/python3.8/dist-packages (from simpletransformers) (2.9.0)\n",
            "Requirement already satisfied: regex in /usr/local/lib/python3.8/dist-packages (from simpletransformers) (2022.6.2)\n",
            "Requirement already satisfied: tensorboard in /usr/local/lib/python3.8/dist-packages (from simpletransformers) (2.11.2)\n",
            "Requirement already satisfied: scikit-learn in /usr/local/lib/python3.8/dist-packages (from simpletransformers) (1.0.2)\n",
            "Requirement already satisfied: seqeval in /usr/local/lib/python3.8/dist-packages (from simpletransformers) (1.2.2)\n",
            "Requirement already satisfied: streamlit in /usr/local/lib/python3.8/dist-packages (from simpletransformers) (1.18.1)\n",
            "Requirement already satisfied: scipy in /usr/local/lib/python3.8/dist-packages (from simpletransformers) (1.7.3)\n",
            "Requirement already satisfied: transformers>=4.6.0 in /usr/local/lib/python3.8/dist-packages (from simpletransformers) (4.26.1)\n",
            "Requirement already satisfied: huggingface-hub<1.0,>=0.11.0 in /usr/local/lib/python3.8/dist-packages (from transformers>=4.6.0->simpletransformers) (0.12.1)\n",
            "Requirement already satisfied: filelock in /usr/local/lib/python3.8/dist-packages (from transformers>=4.6.0->simpletransformers) (3.9.0)\n",
            "Requirement already satisfied: packaging>=20.0 in /usr/local/lib/python3.8/dist-packages (from transformers>=4.6.0->simpletransformers) (23.0)\n",
            "Requirement already satisfied: pyyaml>=5.1 in /usr/local/lib/python3.8/dist-packages (from transformers>=4.6.0->simpletransformers) (6.0)\n",
            "Requirement already satisfied: protobuf!=4.21.0,<5,>=3.12.0 in /usr/local/lib/python3.8/dist-packages (from wandb>=0.10.32->simpletransformers) (3.19.6)\n",
            "Requirement already satisfied: psutil>=5.0.0 in /usr/local/lib/python3.8/dist-packages (from wandb>=0.10.32->simpletransformers) (5.4.8)\n",
            "Requirement already satisfied: Click!=8.0.0,>=7.0 in /usr/local/lib/python3.8/dist-packages (from wandb>=0.10.32->simpletransformers) (7.1.2)\n",
            "Requirement already satisfied: appdirs>=1.4.3 in /usr/local/lib/python3.8/dist-packages (from wandb>=0.10.32->simpletransformers) (1.4.4)\n",
            "Requirement already satisfied: GitPython>=1.0.0 in /usr/local/lib/python3.8/dist-packages (from wandb>=0.10.32->simpletransformers) (3.1.31)\n",
            "Requirement already satisfied: docker-pycreds>=0.4.0 in /usr/local/lib/python3.8/dist-packages (from wandb>=0.10.32->simpletransformers) (0.4.0)\n",
            "Requirement already satisfied: sentry-sdk>=1.0.0 in /usr/local/lib/python3.8/dist-packages (from wandb>=0.10.32->simpletransformers) (1.15.0)\n",
            "Requirement already satisfied: typing-extensions in /usr/local/lib/python3.8/dist-packages (from wandb>=0.10.32->simpletransformers) (4.5.0)\n",
            "Requirement already satisfied: setuptools in /usr/local/lib/python3.8/dist-packages (from wandb>=0.10.32->simpletransformers) (57.4.0)\n",
            "Requirement already satisfied: setproctitle in /usr/local/lib/python3.8/dist-packages (from wandb>=0.10.32->simpletransformers) (1.3.2)\n",
            "Requirement already satisfied: pathtools in /usr/local/lib/python3.8/dist-packages (from wandb>=0.10.32->simpletransformers) (0.1.2)\n",
            "Requirement already satisfied: idna<3,>=2.5 in /usr/local/lib/python3.8/dist-packages (from requests->simpletransformers) (2.10)\n",
            "Requirement already satisfied: urllib3<1.27,>=1.21.1 in /usr/local/lib/python3.8/dist-packages (from requests->simpletransformers) (1.26.14)\n",
            "Requirement already satisfied: chardet<5,>=3.0.2 in /usr/local/lib/python3.8/dist-packages (from requests->simpletransformers) (4.0.0)\n",
            "Requirement already satisfied: certifi>=2017.4.17 in /usr/local/lib/python3.8/dist-packages (from requests->simpletransformers) (2022.12.7)\n",
            "Requirement already satisfied: multiprocess in /usr/local/lib/python3.8/dist-packages (from datasets->simpletransformers) (0.70.14)\n",
            "Requirement already satisfied: fsspec[http]>=2021.11.1 in /usr/local/lib/python3.8/dist-packages (from datasets->simpletransformers) (2023.1.0)\n",
            "Requirement already satisfied: pyarrow>=6.0.0 in /usr/local/lib/python3.8/dist-packages (from datasets->simpletransformers) (9.0.0)\n",
            "Requirement already satisfied: aiohttp in /usr/local/lib/python3.8/dist-packages (from datasets->simpletransformers) (3.8.4)\n",
            "Requirement already satisfied: responses<0.19 in /usr/local/lib/python3.8/dist-packages (from datasets->simpletransformers) (0.18.0)\n",
            "Requirement already satisfied: dill<0.3.7 in /usr/local/lib/python3.8/dist-packages (from datasets->simpletransformers) (0.3.6)\n",
            "Requirement already satisfied: xxhash in /usr/local/lib/python3.8/dist-packages (from datasets->simpletransformers) (3.2.0)\n",
            "Requirement already satisfied: pytz>=2017.3 in /usr/local/lib/python3.8/dist-packages (from pandas->simpletransformers) (2022.7.1)\n",
            "Requirement already satisfied: python-dateutil>=2.7.3 in /usr/local/lib/python3.8/dist-packages (from pandas->simpletransformers) (2.8.2)\n",
            "Requirement already satisfied: threadpoolctl>=2.0.0 in /usr/local/lib/python3.8/dist-packages (from scikit-learn->simpletransformers) (3.1.0)\n",
            "Requirement already satisfied: joblib>=0.11 in /usr/local/lib/python3.8/dist-packages (from scikit-learn->simpletransformers) (1.2.0)\n",
            "Requirement already satisfied: semver in /usr/local/lib/python3.8/dist-packages (from streamlit->simpletransformers) (2.13.0)\n",
            "Requirement already satisfied: pillow>=6.2.0 in /usr/local/lib/python3.8/dist-packages (from streamlit->simpletransformers) (7.1.2)\n",
            "Requirement already satisfied: altair>=3.2.0 in /usr/local/lib/python3.8/dist-packages (from streamlit->simpletransformers) (4.2.2)\n",
            "Requirement already satisfied: validators>=0.2 in /usr/local/lib/python3.8/dist-packages (from streamlit->simpletransformers) (0.20.0)\n",
            "Requirement already satisfied: importlib-metadata>=1.4 in /usr/local/lib/python3.8/dist-packages (from streamlit->simpletransformers) (6.0.0)\n",
            "Requirement already satisfied: tornado>=6.0.3 in /usr/local/lib/python3.8/dist-packages (from streamlit->simpletransformers) (6.2)\n",
            "Requirement already satisfied: pydeck>=0.1.dev5 in /usr/local/lib/python3.8/dist-packages (from streamlit->simpletransformers) (0.8.0)\n",
            "Requirement already satisfied: tzlocal>=1.1 in /usr/local/lib/python3.8/dist-packages (from streamlit->simpletransformers) (1.5.1)\n",
            "Requirement already satisfied: pympler>=0.9 in /usr/local/lib/python3.8/dist-packages (from streamlit->simpletransformers) (1.0.1)\n",
            "Requirement already satisfied: rich>=10.11.0 in /usr/local/lib/python3.8/dist-packages (from streamlit->simpletransformers) (13.3.1)\n",
            "Requirement already satisfied: blinker>=1.0.0 in /usr/local/lib/python3.8/dist-packages (from streamlit->simpletransformers) (1.5)\n",
            "Requirement already satisfied: cachetools>=4.0 in /usr/local/lib/python3.8/dist-packages (from streamlit->simpletransformers) (5.3.0)\n",
            "Requirement already satisfied: watchdog in /usr/local/lib/python3.8/dist-packages (from streamlit->simpletransformers) (2.2.1)\n",
            "Requirement already satisfied: toml in /usr/local/lib/python3.8/dist-packages (from streamlit->simpletransformers) (0.10.2)\n",
            "Requirement already satisfied: grpcio>=1.24.3 in /usr/local/lib/python3.8/dist-packages (from tensorboard->simpletransformers) (1.51.1)\n",
            "Requirement already satisfied: werkzeug>=1.0.1 in /usr/local/lib/python3.8/dist-packages (from tensorboard->simpletransformers) (1.0.1)\n",
            "Requirement already satisfied: google-auth-oauthlib<0.5,>=0.4.1 in /usr/local/lib/python3.8/dist-packages (from tensorboard->simpletransformers) (0.4.6)\n",
            "Requirement already satisfied: wheel>=0.26 in /usr/local/lib/python3.8/dist-packages (from tensorboard->simpletransformers) (0.38.4)\n",
            "Requirement already satisfied: tensorboard-plugin-wit>=1.6.0 in /usr/local/lib/python3.8/dist-packages (from tensorboard->simpletransformers) (1.8.1)\n",
            "Requirement already satisfied: markdown>=2.6.8 in /usr/local/lib/python3.8/dist-packages (from tensorboard->simpletransformers) (3.4.1)\n",
            "Requirement already satisfied: absl-py>=0.4 in /usr/local/lib/python3.8/dist-packages (from tensorboard->simpletransformers) (1.4.0)\n",
            "Requirement already satisfied: google-auth<3,>=1.6.3 in /usr/local/lib/python3.8/dist-packages (from tensorboard->simpletransformers) (2.16.0)\n",
            "Requirement already satisfied: tensorboard-data-server<0.7.0,>=0.6.0 in /usr/local/lib/python3.8/dist-packages (from tensorboard->simpletransformers) (0.6.1)\n",
            "Requirement already satisfied: toolz in /usr/local/lib/python3.8/dist-packages (from altair>=3.2.0->streamlit->simpletransformers) (0.12.0)\n",
            "Requirement already satisfied: jinja2 in /usr/local/lib/python3.8/dist-packages (from altair>=3.2.0->streamlit->simpletransformers) (2.11.3)\n",
            "Requirement already satisfied: entrypoints in /usr/local/lib/python3.8/dist-packages (from altair>=3.2.0->streamlit->simpletransformers) (0.4)\n",
            "Requirement already satisfied: jsonschema>=3.0 in /usr/local/lib/python3.8/dist-packages (from altair>=3.2.0->streamlit->simpletransformers) (4.3.3)\n",
            "Requirement already satisfied: six>=1.4.0 in /usr/local/lib/python3.8/dist-packages (from docker-pycreds>=0.4.0->wandb>=0.10.32->simpletransformers) (1.15.0)\n",
            "Requirement already satisfied: attrs>=17.3.0 in /usr/local/lib/python3.8/dist-packages (from aiohttp->datasets->simpletransformers) (22.2.0)\n",
            "Requirement already satisfied: frozenlist>=1.1.1 in /usr/local/lib/python3.8/dist-packages (from aiohttp->datasets->simpletransformers) (1.3.3)\n",
            "Requirement already satisfied: async-timeout<5.0,>=4.0.0a3 in /usr/local/lib/python3.8/dist-packages (from aiohttp->datasets->simpletransformers) (4.0.2)\n",
            "Requirement already satisfied: charset-normalizer<4.0,>=2.0 in /usr/local/lib/python3.8/dist-packages (from aiohttp->datasets->simpletransformers) (3.0.1)\n",
            "Requirement already satisfied: yarl<2.0,>=1.0 in /usr/local/lib/python3.8/dist-packages (from aiohttp->datasets->simpletransformers) (1.8.2)\n",
            "Requirement already satisfied: aiosignal>=1.1.2 in /usr/local/lib/python3.8/dist-packages (from aiohttp->datasets->simpletransformers) (1.3.1)\n",
            "Requirement already satisfied: multidict<7.0,>=4.5 in /usr/local/lib/python3.8/dist-packages (from aiohttp->datasets->simpletransformers) (6.0.4)\n",
            "Requirement already satisfied: gitdb<5,>=4.0.1 in /usr/local/lib/python3.8/dist-packages (from GitPython>=1.0.0->wandb>=0.10.32->simpletransformers) (4.0.10)\n",
            "Requirement already satisfied: rsa<5,>=3.1.4 in /usr/local/lib/python3.8/dist-packages (from google-auth<3,>=1.6.3->tensorboard->simpletransformers) (4.9)\n",
            "Requirement already satisfied: pyasn1-modules>=0.2.1 in /usr/local/lib/python3.8/dist-packages (from google-auth<3,>=1.6.3->tensorboard->simpletransformers) (0.2.8)\n",
            "Requirement already satisfied: requests-oauthlib>=0.7.0 in /usr/local/lib/python3.8/dist-packages (from google-auth-oauthlib<0.5,>=0.4.1->tensorboard->simpletransformers) (1.3.1)\n",
            "Requirement already satisfied: zipp>=0.5 in /usr/local/lib/python3.8/dist-packages (from importlib-metadata>=1.4->streamlit->simpletransformers) (3.13.0)\n",
            "Requirement already satisfied: markdown-it-py<3.0.0,>=2.1.0 in /usr/local/lib/python3.8/dist-packages (from rich>=10.11.0->streamlit->simpletransformers) (2.1.0)\n",
            "Requirement already satisfied: pygments<3.0.0,>=2.14.0 in /usr/local/lib/python3.8/dist-packages (from rich>=10.11.0->streamlit->simpletransformers) (2.14.0)\n",
            "Requirement already satisfied: decorator>=3.4.0 in /usr/local/lib/python3.8/dist-packages (from validators>=0.2->streamlit->simpletransformers) (4.4.2)\n",
            "Requirement already satisfied: smmap<6,>=3.0.1 in /usr/local/lib/python3.8/dist-packages (from gitdb<5,>=4.0.1->GitPython>=1.0.0->wandb>=0.10.32->simpletransformers) (5.0.0)\n",
            "Requirement already satisfied: MarkupSafe>=0.23 in /usr/local/lib/python3.8/dist-packages (from jinja2->altair>=3.2.0->streamlit->simpletransformers) (2.0.1)\n",
            "Requirement already satisfied: pyrsistent!=0.17.0,!=0.17.1,!=0.17.2,>=0.14.0 in /usr/local/lib/python3.8/dist-packages (from jsonschema>=3.0->altair>=3.2.0->streamlit->simpletransformers) (0.19.3)\n",
            "Requirement already satisfied: importlib-resources>=1.4.0 in /usr/local/lib/python3.8/dist-packages (from jsonschema>=3.0->altair>=3.2.0->streamlit->simpletransformers) (5.10.2)\n",
            "Requirement already satisfied: mdurl~=0.1 in /usr/local/lib/python3.8/dist-packages (from markdown-it-py<3.0.0,>=2.1.0->rich>=10.11.0->streamlit->simpletransformers) (0.1.2)\n",
            "Requirement already satisfied: pyasn1<0.5.0,>=0.4.6 in /usr/local/lib/python3.8/dist-packages (from pyasn1-modules>=0.2.1->google-auth<3,>=1.6.3->tensorboard->simpletransformers) (0.4.8)\n",
            "Requirement already satisfied: oauthlib>=3.0.0 in /usr/local/lib/python3.8/dist-packages (from requests-oauthlib>=0.7.0->google-auth-oauthlib<0.5,>=0.4.1->tensorboard->simpletransformers) (3.2.2)\n"
          ]
        }
      ],
      "source": [
        "import numpy as np\n",
        "import pandas as pd\n",
        "from google.colab import drive\n",
        "from sklearn.metrics.pairwise import cosine_similarity\n",
        "drive.mount('/content/drive')\n",
        "!pip install simpletransformers\n",
        "from simpletransformers.language_representation import RepresentationModel"
      ]
    },
    {
      "cell_type": "code",
      "execution_count": 2,
      "metadata": {
        "colab": {
          "base_uri": "https://localhost:8080/"
        },
        "id": "1nXgw4pAkBkn",
        "outputId": "1e47e974-9716-4438-85f3-11b3e4c878f7"
      },
      "outputs": [
        {
          "output_type": "stream",
          "name": "stderr",
          "text": [
            "Some weights of the model checkpoint at bert-base-uncased were not used when initializing BertForTextRepresentation: ['cls.predictions.bias', 'cls.seq_relationship.bias', 'cls.predictions.transform.dense.weight', 'cls.predictions.transform.LayerNorm.weight', 'cls.seq_relationship.weight', 'cls.predictions.transform.LayerNorm.bias', 'cls.predictions.transform.dense.bias', 'cls.predictions.decoder.weight']\n",
            "- This IS expected if you are initializing BertForTextRepresentation from the checkpoint of a model trained on another task or with another architecture (e.g. initializing a BertForSequenceClassification model from a BertForPreTraining model).\n",
            "- This IS NOT expected if you are initializing BertForTextRepresentation from the checkpoint of a model that you expect to be exactly identical (initializing a BertForSequenceClassification model from a BertForSequenceClassification model).\n"
          ]
        }
      ],
      "source": [
        "model = RepresentationModel(\n",
        "        model_type=\"bert\",\n",
        "        model_name=\"bert-base-uncased\",\n",
        "        use_cuda=False\n",
        "    )"
      ]
    },
    {
      "cell_type": "code",
      "execution_count": 3,
      "metadata": {
        "id": "99d8wdvz36Fe"
      },
      "outputs": [],
      "source": [
        "hotel_reviews = 'hotel reviews'\n",
        "movie_reviews = 'movie reviews'\n",
        "spam_sms = 'spam sms'\n",
        "spam_emails = 'spam emails'\n",
        "\n",
        "datasets_names = [hotel_reviews, movie_reviews, spam_sms, spam_emails]"
      ]
    },
    {
      "cell_type": "code",
      "execution_count": 4,
      "metadata": {
        "id": "eEp9x--Q36DY"
      },
      "outputs": [],
      "source": [
        "def get_dataset_in_correct_form(dataset_name):\n",
        "    if dataset_name == spam_sms:\n",
        "        df = pd.read_csv('/content/drive/MyDrive/data_for_colab/spam_sms.csv', encoding = \"ISO-8859-1\")\n",
        "        df.drop(columns=['Unnamed: 2', 'Unnamed: 3', 'Unnamed: 4'], inplace=True)\n",
        "        df.columns = ['IS_SPAM', 'DATA_COLUMN']\n",
        "        df['IS_SPAM'] = (df['IS_SPAM'] == 'spam').astype(int)\n",
        "        df_positive = df[df['IS_SPAM']==1]\n",
        "        df_negative = df[df['IS_SPAM']==0]\n",
        "        # Тестовая выборка\n",
        "        n_test = df_negative.shape[0] // 2\n",
        "        df_negative_test = df_negative.tail(n_test)\n",
        "        n_test = df_positive.shape[0] // 2\n",
        "        df_positive_test = df_positive.tail(n_test)\n",
        "        df_balanced_test = pd.concat([df_negative_test, df_positive_test])\n",
        "        # Обучающая выборка\n",
        "        n_train = df_negative.shape[0] // 2\n",
        "        df_negative_train = df_negative.head(n_train)\n",
        "        n_train = df_positive.shape[0] // 2\n",
        "        df_positive_train = df_positive.head(n_train)\n",
        "        df_balanced_train = pd.concat([df_negative_train, df_positive_train])\n",
        "\n",
        "    elif dataset_name == spam_emails:\n",
        "        df = pd.read_csv('/content/drive/MyDrive/data_for_colab/spam_emails.csv', encoding = \"ISO-8859-1\")\n",
        "        df.drop(columns=['Unnamed: 0', 'label'], inplace=True)\n",
        "        df.columns = ['DATA_COLUMN', 'IS_SPAM']\n",
        "        df['DATA_COLUMN'] = df['DATA_COLUMN'].apply(lambda x: x.replace('\\r\\n', ' ').replace('\\n', ' '))\n",
        "        df_positive = df[df['IS_SPAM']==1]\n",
        "        df_negative = df[df['IS_SPAM']==0]\n",
        "        # Тестовая выборка\n",
        "        n_test = df_negative.shape[0] // 2\n",
        "        df_negative_test = df_negative.tail(n_test)\n",
        "        n_test = df_positive.shape[0] // 2\n",
        "        df_positive_test = df_positive.tail(n_test)\n",
        "        df_balanced_test = pd.concat([df_negative_test, df_positive_test])\n",
        "        # Обучающая выборка\n",
        "        n_train = df_negative.shape[0] // 2\n",
        "        df_negative_train = df_negative.head(n_train)\n",
        "        n_train = df_positive.shape[0] // 2\n",
        "        df_positive_train = df_positive.head(n_train)\n",
        "        df_balanced_train = pd.concat([df_negative_train, df_positive_train])\n",
        "\n",
        "    elif dataset_name == hotel_reviews:\n",
        "        df = pd.read_csv('/content/drive/MyDrive/data_for_colab/tripadvisor_hotel_reviews.csv')\n",
        "        df = df[df.Rating != 3]\n",
        "        df['is_positive'] = (df['Rating'] >= 4).astype(int)\n",
        "        df.drop(columns=['Rating'], inplace=True)\n",
        "        df.columns = ['DATA_COLUMN', 'LABEL_COLUMN']\n",
        "        df_positive = df[df['LABEL_COLUMN']==1]\n",
        "        df_negative = df[df['LABEL_COLUMN']==0]\n",
        "        # Тестовая выборка\n",
        "        n_test = (df_negative.shape[0] // 4) * 3\n",
        "        df_negative_test = df_negative.tail(n_test)\n",
        "        n_test = (df_positive.shape[0] // 20) * 3\n",
        "        df_positive_test = df_positive.tail(n_test)\n",
        "        df_balanced_test = pd.concat([df_negative_test, df_positive_test])\n",
        "        # Обучающая выборка\n",
        "        n_train = df_negative.shape[0] // 4\n",
        "        df_negative_train = df_negative.head(n_train)\n",
        "        n_train = df_positive.shape[0] // 20\n",
        "        df_positive_train = df_positive.head(n_train)\n",
        "        df_balanced_train = pd.concat([df_negative_train, df_positive_train])\n",
        "    \n",
        "    elif dataset_name == movie_reviews:\n",
        "        df = pd.read_csv('/content/drive/MyDrive/data_for_colab/IMDB Dataset.csv')\n",
        "        df['is_positive'] = (df['sentiment'] == 'positive').astype(int)\n",
        "        df.drop(columns=['sentiment'], inplace=True)\n",
        "        df.columns = ['DATA_COLUMN', 'LABEL_COLUMN']\n",
        "        df_positive = df[df['LABEL_COLUMN']==1]\n",
        "        df_negative = df[df['LABEL_COLUMN']==0]\n",
        "        # Для тестовой выборки берем последние 10% негативных отзывов и последние 10% позитивных отзывов\n",
        "        n_test = df_negative.shape[0] // 10 # в оригинале df_negative.shape[0] // 10\n",
        "        df_negative_test = df_negative.tail(n_test)\n",
        "        n_test = df_positive.shape[0] // 10 # df_positive.shape[0] // 10\n",
        "        df_positive_test = df_positive.tail(n_test)\n",
        "        df_balanced_test = pd.concat([df_negative_test, df_positive_test])\n",
        "        # Для обучающей выборки берем первые 2.5% из начала датасета.\n",
        "        n_train = df_negative.shape[0] // 40 # в оригинале df_negative.shape[0] // 40\n",
        "        df_negative_train = df_negative.head(n_train)\n",
        "        n_train = df_positive.shape[0] // 40 # в оригианале df_positive.shape[0] // 40\n",
        "        df_positive_train = df_positive.head(n_train)\n",
        "        df_balanced_train = pd.concat([df_negative_train, df_positive_train])\n",
        "\n",
        "    else:\n",
        "        raise ValueError('Wrong dataset name')\n",
        "\n",
        "    X_train = df_balanced_train['DATA_COLUMN'].squeeze()\n",
        "    X_test = df_balanced_test['DATA_COLUMN'].squeeze()\n",
        "    # dataset_in_correct_form = list(pd.concat([X_train, X_test])) # работает слишком долго\n",
        "    dataset_in_correct_form = list(pd.concat([X_train, X_test]))[:100]\n",
        "    return dataset_in_correct_form"
      ]
    },
    {
      "cell_type": "code",
      "execution_count": 5,
      "metadata": {
        "id": "qHy-Ya4E35-9"
      },
      "outputs": [],
      "source": [
        "def get_vector_representations(dataset_in_correct_form):\n",
        "    items_vectors = model.encode_sentences(dataset_in_correct_form, combine_strategy=\"mean\")\n",
        "    return items_vectors"
      ]
    },
    {
      "cell_type": "code",
      "execution_count": 6,
      "metadata": {
        "id": "Pq-jAXYeF806"
      },
      "outputs": [],
      "source": [
        "# cosine_similarity(np.mean(get_vector_representations(get_dataset_in_correct_form(spam_emails)), axis = 0).reshape(1, -1), np.mean(get_vector_representations(get_dataset_in_correct_form(spam_sms)), axis = 0).reshape(1, -1))[0][0]"
      ]
    },
    {
      "cell_type": "markdown",
      "metadata": {
        "id": "eEb0N0iAdjSS"
      },
      "source": [
        "На 1/16 часть исследования требуется 2 минуты, если брать первые 100 записей в датасете.  Если брать весь датасет, тогда на 1/16 часть исследования надо более получаса, и я завершил выполнение кода досрочно. "
      ]
    },
    {
      "cell_type": "code",
      "execution_count": 7,
      "metadata": {
        "colab": {
          "base_uri": "https://localhost:8080/"
        },
        "id": "xA-k5sGeGI2R",
        "outputId": "212b43ad-0bee-40d2-b2eb-bd1dff093640"
      },
      "outputs": [
        {
          "output_type": "stream",
          "name": "stdout",
          "text": [
            "1 out of 16 : Please, be patient! Working on comparing hotel reviews with hotel reviews\n",
            "2 out of 16 : Please, be patient! Working on comparing hotel reviews with movie reviews\n",
            "3 out of 16 : Please, be patient! Working on comparing hotel reviews with spam sms\n",
            "4 out of 16 : Please, be patient! Working on comparing hotel reviews with spam emails\n",
            "5 out of 16 : Please, be patient! Working on comparing movie reviews with hotel reviews\n",
            "6 out of 16 : Please, be patient! Working on comparing movie reviews with movie reviews\n",
            "7 out of 16 : Please, be patient! Working on comparing movie reviews with spam sms\n",
            "8 out of 16 : Please, be patient! Working on comparing movie reviews with spam emails\n",
            "9 out of 16 : Please, be patient! Working on comparing spam sms with hotel reviews\n",
            "10 out of 16 : Please, be patient! Working on comparing spam sms with movie reviews\n",
            "11 out of 16 : Please, be patient! Working on comparing spam sms with spam sms\n",
            "12 out of 16 : Please, be patient! Working on comparing spam sms with spam emails\n",
            "13 out of 16 : Please, be patient! Working on comparing spam emails with hotel reviews\n",
            "14 out of 16 : Please, be patient! Working on comparing spam emails with movie reviews\n",
            "15 out of 16 : Please, be patient! Working on comparing spam emails with spam sms\n",
            "16 out of 16 : Please, be patient! Working on comparing spam emails with spam emails\n"
          ]
        }
      ],
      "source": [
        "df_with_second_method_results = pd.DataFrame(columns=[hotel_reviews, movie_reviews, spam_sms, spam_emails])\n",
        "_i = 0\n",
        "for cur_first_dataset in datasets_names:\n",
        "    for cur_second_dataset in datasets_names:\n",
        "        _i += 1\n",
        "        print(_i, 'out of', len(datasets_names) ** 2, ':', \"Please, be patient! Working on comparing\", cur_first_dataset, 'with', cur_second_dataset)\n",
        "        df_with_second_method_results.loc[cur_first_dataset, cur_second_dataset] = cosine_similarity(np.mean(get_vector_representations(get_dataset_in_correct_form(cur_first_dataset)), axis = 0).reshape(1, -1),\n",
        "                                                                                                     np.mean(get_vector_representations(get_dataset_in_correct_form(cur_second_dataset)), axis = 0).reshape(1, -1))[0][0]"
      ]
    },
    {
      "cell_type": "code",
      "execution_count": 8,
      "metadata": {
        "id": "9M-4N-pBGYpy",
        "colab": {
          "base_uri": "https://localhost:8080/",
          "height": 174
        },
        "outputId": "55823cbb-1c19-4eea-e93e-9809345d3a53"
      },
      "outputs": [
        {
          "output_type": "execute_result",
          "data": {
            "text/plain": [
              "              hotel reviews movie reviews  spam sms spam emails\n",
              "hotel reviews           1.0      0.767404  0.592511    0.782914\n",
              "movie reviews      0.767404           1.0  0.729809    0.862794\n",
              "spam sms           0.592511      0.729809       1.0    0.720972\n",
              "spam emails        0.782914      0.862794  0.720972         1.0"
            ],
            "text/html": [
              "\n",
              "  <div id=\"df-5d323f79-04de-45c4-955f-d856fd5d1c7d\">\n",
              "    <div class=\"colab-df-container\">\n",
              "      <div>\n",
              "<style scoped>\n",
              "    .dataframe tbody tr th:only-of-type {\n",
              "        vertical-align: middle;\n",
              "    }\n",
              "\n",
              "    .dataframe tbody tr th {\n",
              "        vertical-align: top;\n",
              "    }\n",
              "\n",
              "    .dataframe thead th {\n",
              "        text-align: right;\n",
              "    }\n",
              "</style>\n",
              "<table border=\"1\" class=\"dataframe\">\n",
              "  <thead>\n",
              "    <tr style=\"text-align: right;\">\n",
              "      <th></th>\n",
              "      <th>hotel reviews</th>\n",
              "      <th>movie reviews</th>\n",
              "      <th>spam sms</th>\n",
              "      <th>spam emails</th>\n",
              "    </tr>\n",
              "  </thead>\n",
              "  <tbody>\n",
              "    <tr>\n",
              "      <th>hotel reviews</th>\n",
              "      <td>1.0</td>\n",
              "      <td>0.767404</td>\n",
              "      <td>0.592511</td>\n",
              "      <td>0.782914</td>\n",
              "    </tr>\n",
              "    <tr>\n",
              "      <th>movie reviews</th>\n",
              "      <td>0.767404</td>\n",
              "      <td>1.0</td>\n",
              "      <td>0.729809</td>\n",
              "      <td>0.862794</td>\n",
              "    </tr>\n",
              "    <tr>\n",
              "      <th>spam sms</th>\n",
              "      <td>0.592511</td>\n",
              "      <td>0.729809</td>\n",
              "      <td>1.0</td>\n",
              "      <td>0.720972</td>\n",
              "    </tr>\n",
              "    <tr>\n",
              "      <th>spam emails</th>\n",
              "      <td>0.782914</td>\n",
              "      <td>0.862794</td>\n",
              "      <td>0.720972</td>\n",
              "      <td>1.0</td>\n",
              "    </tr>\n",
              "  </tbody>\n",
              "</table>\n",
              "</div>\n",
              "      <button class=\"colab-df-convert\" onclick=\"convertToInteractive('df-5d323f79-04de-45c4-955f-d856fd5d1c7d')\"\n",
              "              title=\"Convert this dataframe to an interactive table.\"\n",
              "              style=\"display:none;\">\n",
              "        \n",
              "  <svg xmlns=\"http://www.w3.org/2000/svg\" height=\"24px\"viewBox=\"0 0 24 24\"\n",
              "       width=\"24px\">\n",
              "    <path d=\"M0 0h24v24H0V0z\" fill=\"none\"/>\n",
              "    <path d=\"M18.56 5.44l.94 2.06.94-2.06 2.06-.94-2.06-.94-.94-2.06-.94 2.06-2.06.94zm-11 1L8.5 8.5l.94-2.06 2.06-.94-2.06-.94L8.5 2.5l-.94 2.06-2.06.94zm10 10l.94 2.06.94-2.06 2.06-.94-2.06-.94-.94-2.06-.94 2.06-2.06.94z\"/><path d=\"M17.41 7.96l-1.37-1.37c-.4-.4-.92-.59-1.43-.59-.52 0-1.04.2-1.43.59L10.3 9.45l-7.72 7.72c-.78.78-.78 2.05 0 2.83L4 21.41c.39.39.9.59 1.41.59.51 0 1.02-.2 1.41-.59l7.78-7.78 2.81-2.81c.8-.78.8-2.07 0-2.86zM5.41 20L4 18.59l7.72-7.72 1.47 1.35L5.41 20z\"/>\n",
              "  </svg>\n",
              "      </button>\n",
              "      \n",
              "  <style>\n",
              "    .colab-df-container {\n",
              "      display:flex;\n",
              "      flex-wrap:wrap;\n",
              "      gap: 12px;\n",
              "    }\n",
              "\n",
              "    .colab-df-convert {\n",
              "      background-color: #E8F0FE;\n",
              "      border: none;\n",
              "      border-radius: 50%;\n",
              "      cursor: pointer;\n",
              "      display: none;\n",
              "      fill: #1967D2;\n",
              "      height: 32px;\n",
              "      padding: 0 0 0 0;\n",
              "      width: 32px;\n",
              "    }\n",
              "\n",
              "    .colab-df-convert:hover {\n",
              "      background-color: #E2EBFA;\n",
              "      box-shadow: 0px 1px 2px rgba(60, 64, 67, 0.3), 0px 1px 3px 1px rgba(60, 64, 67, 0.15);\n",
              "      fill: #174EA6;\n",
              "    }\n",
              "\n",
              "    [theme=dark] .colab-df-convert {\n",
              "      background-color: #3B4455;\n",
              "      fill: #D2E3FC;\n",
              "    }\n",
              "\n",
              "    [theme=dark] .colab-df-convert:hover {\n",
              "      background-color: #434B5C;\n",
              "      box-shadow: 0px 1px 3px 1px rgba(0, 0, 0, 0.15);\n",
              "      filter: drop-shadow(0px 1px 2px rgba(0, 0, 0, 0.3));\n",
              "      fill: #FFFFFF;\n",
              "    }\n",
              "  </style>\n",
              "\n",
              "      <script>\n",
              "        const buttonEl =\n",
              "          document.querySelector('#df-5d323f79-04de-45c4-955f-d856fd5d1c7d button.colab-df-convert');\n",
              "        buttonEl.style.display =\n",
              "          google.colab.kernel.accessAllowed ? 'block' : 'none';\n",
              "\n",
              "        async function convertToInteractive(key) {\n",
              "          const element = document.querySelector('#df-5d323f79-04de-45c4-955f-d856fd5d1c7d');\n",
              "          const dataTable =\n",
              "            await google.colab.kernel.invokeFunction('convertToInteractive',\n",
              "                                                     [key], {});\n",
              "          if (!dataTable) return;\n",
              "\n",
              "          const docLinkHtml = 'Like what you see? Visit the ' +\n",
              "            '<a target=\"_blank\" href=https://colab.research.google.com/notebooks/data_table.ipynb>data table notebook</a>'\n",
              "            + ' to learn more about interactive tables.';\n",
              "          element.innerHTML = '';\n",
              "          dataTable['output_type'] = 'display_data';\n",
              "          await google.colab.output.renderOutput(dataTable, element);\n",
              "          const docLink = document.createElement('div');\n",
              "          docLink.innerHTML = docLinkHtml;\n",
              "          element.appendChild(docLink);\n",
              "        }\n",
              "      </script>\n",
              "    </div>\n",
              "  </div>\n",
              "  "
            ]
          },
          "metadata": {},
          "execution_count": 8
        }
      ],
      "source": [
        "df_with_second_method_results"
      ]
    },
    {
      "cell_type": "code",
      "source": [
        "df_with_second_method_results.to_csv('/content/drive/MyDrive/data_for_colab/dataframes/second_approach/df_with_second_method_results.csv')"
      ],
      "metadata": {
        "id": "HNLJY8nOnfuP"
      },
      "execution_count": 9,
      "outputs": []
    },
    {
      "cell_type": "markdown",
      "source": [
        "\n",
        "Теперь будем искать корреляцию с разницей качества из раздела \"Дополнительное исследование\""
      ],
      "metadata": {
        "id": "ENQ1EfHbmg_q"
      }
    },
    {
      "cell_type": "code",
      "source": [],
      "metadata": {
        "id": "IMnQRBXYmkd6"
      },
      "execution_count": null,
      "outputs": []
    }
  ],
  "metadata": {
    "colab": {
      "provenance": []
    },
    "kernelspec": {
      "display_name": "Python 3",
      "name": "python3"
    },
    "language_info": {
      "name": "python"
    }
  },
  "nbformat": 4,
  "nbformat_minor": 0
}