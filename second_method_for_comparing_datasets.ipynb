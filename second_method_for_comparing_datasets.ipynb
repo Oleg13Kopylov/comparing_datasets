{
  "cells": [
    {
      "cell_type": "markdown",
      "metadata": {
        "id": "emMEEWdZWzpX"
      },
      "source": [
        "# В этом ноутбуке представлена вторая гипотеза для оценки сходства датасетов, а также реализован метод сравнения датасетов в соответствии со второй гипотезой."
      ]
    },
    {
      "cell_type": "markdown",
      "metadata": {
        "id": "IRBZ0QKN8lTf"
      },
      "source": [
        "**Вторая гипотеза** для метода оценки сходства датасетов:\n",
        "\n",
        "_Сходство датасетов может быть связано со схожестью их текстового содержания, которое отражается в близких средних значениях эмбеддингов._\n",
        "\n",
        "-------------------\n",
        "\n",
        "Поэтому **метод сравнения датасетов** следующий:\n",
        "\n",
        "Cделать векторные представления от каждого текста из датасета (например, с помощью bert) и усреднить. Для разных датасетов сравнить полученный эмбеддинг, например, с помощью cosine_similarity. Чем больше полученное значение, тем более похожими являются полученные усредненные эмбеддинги и, по нашей гипотезе, тем больше сходство сравниваемых датасетов."
      ]
    },
    {
      "cell_type": "code",
      "execution_count": null,
      "metadata": {
        "colab": {
          "base_uri": "https://localhost:8080/"
        },
        "id": "NDBb31cllHNo",
        "outputId": "c581adc9-308f-40e0-c2ad-ecd11f68bb3c"
      },
      "outputs": [
        {
          "output_type": "stream",
          "name": "stdout",
          "text": [
            "Mounted at /content/drive\n"
          ]
        }
      ],
      "source": [
        "import numpy as np\n",
        "import pandas as pd\n",
        "from google.colab import drive\n",
        "drive.mount('/content/drive')\n"
      ]
    },
    {
      "cell_type": "code",
      "source": [
        "need_to_conduct_research = False  # Если выставить True, то будет проведено объемное по времени исследование, результаты которого сохраняются в google drive\n",
        "# Если выставить False, то результаты исследования будут загружены из google MyDrive.\n",
        "# Рекомендуется выставлять False"
      ],
      "metadata": {
        "id": "td-weplZoHcG"
      },
      "execution_count": null,
      "outputs": []
    },
    {
      "cell_type": "code",
      "source": [
        "if need_to_conduct_research:\n",
        "    from sklearn.metrics.pairwise import cosine_similarity\n",
        "    !pip install simpletransformers\n",
        "    from simpletransformers.language_representation import RepresentationModel\n",
        "\n",
        "    model = RepresentationModel(\n",
        "        model_type=\"bert\",\n",
        "        model_name=\"bert-base-uncased\",\n",
        "        use_cuda=False\n",
        "    )"
      ],
      "metadata": {
        "id": "fhbSeWQdoCyX"
      },
      "execution_count": null,
      "outputs": []
    },
    {
      "cell_type": "code",
      "execution_count": null,
      "metadata": {
        "id": "99d8wdvz36Fe"
      },
      "outputs": [],
      "source": [
        "hotel_reviews = 'hotel reviews'\n",
        "movie_reviews = 'movie reviews'\n",
        "spam_sms = 'spam sms'\n",
        "spam_emails = 'spam emails'\n",
        "\n",
        "datasets_names = [hotel_reviews, movie_reviews, spam_sms, spam_emails]"
      ]
    },
    {
      "cell_type": "code",
      "execution_count": null,
      "metadata": {
        "id": "eEp9x--Q36DY"
      },
      "outputs": [],
      "source": [
        "def get_dataset_in_correct_form(dataset_name):\n",
        "    if dataset_name == spam_sms:\n",
        "        df = pd.read_csv('/content/drive/MyDrive/data_for_colab/spam_sms.csv', encoding = \"ISO-8859-1\")\n",
        "        df.drop(columns=['Unnamed: 2', 'Unnamed: 3', 'Unnamed: 4'], inplace=True)\n",
        "        df.columns = ['IS_SPAM', 'DATA_COLUMN']\n",
        "        df['IS_SPAM'] = (df['IS_SPAM'] == 'spam').astype(int)\n",
        "        df_positive = df[df['IS_SPAM']==1]\n",
        "        df_negative = df[df['IS_SPAM']==0]\n",
        "        # Тестовая выборка\n",
        "        n_test = df_negative.shape[0] // 2\n",
        "        df_negative_test = df_negative.tail(n_test)\n",
        "        n_test = df_positive.shape[0] // 2\n",
        "        df_positive_test = df_positive.tail(n_test)\n",
        "        df_balanced_test = pd.concat([df_negative_test, df_positive_test])\n",
        "        # Обучающая выборка\n",
        "        n_train = df_negative.shape[0] // 2\n",
        "        df_negative_train = df_negative.head(n_train)\n",
        "        n_train = df_positive.shape[0] // 2\n",
        "        df_positive_train = df_positive.head(n_train)\n",
        "        df_balanced_train = pd.concat([df_negative_train, df_positive_train])\n",
        "\n",
        "    elif dataset_name == spam_emails:\n",
        "        df = pd.read_csv('/content/drive/MyDrive/data_for_colab/spam_emails.csv', encoding = \"ISO-8859-1\")\n",
        "        df.drop(columns=['Unnamed: 0', 'label'], inplace=True)\n",
        "        df.columns = ['DATA_COLUMN', 'IS_SPAM']\n",
        "        df['DATA_COLUMN'] = df['DATA_COLUMN'].apply(lambda x: x.replace('\\r\\n', ' ').replace('\\n', ' '))\n",
        "        df_positive = df[df['IS_SPAM']==1]\n",
        "        df_negative = df[df['IS_SPAM']==0]\n",
        "        # Тестовая выборка\n",
        "        n_test = df_negative.shape[0] // 2\n",
        "        df_negative_test = df_negative.tail(n_test)\n",
        "        n_test = df_positive.shape[0] // 2\n",
        "        df_positive_test = df_positive.tail(n_test)\n",
        "        df_balanced_test = pd.concat([df_negative_test, df_positive_test])\n",
        "        # Обучающая выборка\n",
        "        n_train = df_negative.shape[0] // 2\n",
        "        df_negative_train = df_negative.head(n_train)\n",
        "        n_train = df_positive.shape[0] // 2\n",
        "        df_positive_train = df_positive.head(n_train)\n",
        "        df_balanced_train = pd.concat([df_negative_train, df_positive_train])\n",
        "\n",
        "    elif dataset_name == hotel_reviews:\n",
        "        df = pd.read_csv('/content/drive/MyDrive/data_for_colab/tripadvisor_hotel_reviews.csv')\n",
        "        df = df[df.Rating != 3]\n",
        "        df['is_positive'] = (df['Rating'] >= 4).astype(int)\n",
        "        df.drop(columns=['Rating'], inplace=True)\n",
        "        df.columns = ['DATA_COLUMN', 'LABEL_COLUMN']\n",
        "        df_positive = df[df['LABEL_COLUMN']==1]\n",
        "        df_negative = df[df['LABEL_COLUMN']==0]\n",
        "        # Тестовая выборка\n",
        "        n_test = (df_negative.shape[0] // 4) * 3\n",
        "        df_negative_test = df_negative.tail(n_test)\n",
        "        n_test = (df_positive.shape[0] // 20) * 3\n",
        "        df_positive_test = df_positive.tail(n_test)\n",
        "        df_balanced_test = pd.concat([df_negative_test, df_positive_test])\n",
        "        # Обучающая выборка\n",
        "        n_train = df_negative.shape[0] // 4\n",
        "        df_negative_train = df_negative.head(n_train)\n",
        "        n_train = df_positive.shape[0] // 20\n",
        "        df_positive_train = df_positive.head(n_train)\n",
        "        df_balanced_train = pd.concat([df_negative_train, df_positive_train])\n",
        "    \n",
        "    elif dataset_name == movie_reviews:\n",
        "        df = pd.read_csv('/content/drive/MyDrive/data_for_colab/IMDB Dataset.csv')\n",
        "        df['is_positive'] = (df['sentiment'] == 'positive').astype(int)\n",
        "        df.drop(columns=['sentiment'], inplace=True)\n",
        "        df.columns = ['DATA_COLUMN', 'LABEL_COLUMN']\n",
        "        df_positive = df[df['LABEL_COLUMN']==1]\n",
        "        df_negative = df[df['LABEL_COLUMN']==0]\n",
        "        # Для тестовой выборки берем последние 10% негативных отзывов и последние 10% позитивных отзывов\n",
        "        n_test = df_negative.shape[0] // 10 # в оригинале df_negative.shape[0] // 10\n",
        "        df_negative_test = df_negative.tail(n_test)\n",
        "        n_test = df_positive.shape[0] // 10 # df_positive.shape[0] // 10\n",
        "        df_positive_test = df_positive.tail(n_test)\n",
        "        df_balanced_test = pd.concat([df_negative_test, df_positive_test])\n",
        "        # Для обучающей выборки берем первые 2.5% из начала датасета.\n",
        "        n_train = df_negative.shape[0] // 40 # в оригинале df_negative.shape[0] // 40\n",
        "        df_negative_train = df_negative.head(n_train)\n",
        "        n_train = df_positive.shape[0] // 40 # в оригианале df_positive.shape[0] // 40\n",
        "        df_positive_train = df_positive.head(n_train)\n",
        "        df_balanced_train = pd.concat([df_negative_train, df_positive_train])\n",
        "\n",
        "    else:\n",
        "        raise ValueError('Wrong dataset name')\n",
        "\n",
        "    X_train = df_balanced_train['DATA_COLUMN'].squeeze()\n",
        "    X_test = df_balanced_test['DATA_COLUMN'].squeeze()\n",
        "    # dataset_in_correct_form = list(pd.concat([X_train, X_test])) # работает слишком долго\n",
        "    dataset_in_correct_form = list(pd.concat([X_train, X_test]))[:100]\n",
        "    return dataset_in_correct_form"
      ]
    },
    {
      "cell_type": "code",
      "execution_count": null,
      "metadata": {
        "id": "qHy-Ya4E35-9"
      },
      "outputs": [],
      "source": [
        "def get_vector_representations(dataset_in_correct_form):\n",
        "    items_vectors = model.encode_sentences(dataset_in_correct_form, combine_strategy=\"mean\")\n",
        "    return items_vectors"
      ]
    },
    {
      "cell_type": "code",
      "execution_count": null,
      "metadata": {
        "id": "Pq-jAXYeF806"
      },
      "outputs": [],
      "source": [
        "# cosine_similarity(np.mean(get_vector_representations(get_dataset_in_correct_form(spam_emails)), axis = 0).reshape(1, -1), np.mean(get_vector_representations(get_dataset_in_correct_form(spam_sms)), axis = 0).reshape(1, -1))[0][0]"
      ]
    },
    {
      "cell_type": "markdown",
      "metadata": {
        "id": "eEb0N0iAdjSS"
      },
      "source": [
        "На 1/16 часть исследования требуется 2 минуты, если брать первые 100 записей в датасете.  Если брать весь датасет, тогда на 1/16 часть исследования надо более получаса, и я завершил выполнение кода досрочно. "
      ]
    },
    {
      "cell_type": "code",
      "execution_count": null,
      "metadata": {
        "id": "xA-k5sGeGI2R"
      },
      "outputs": [],
      "source": [
        "if need_to_conduct_research:\n",
        "    df_with_second_method_results = pd.DataFrame(columns=[hotel_reviews, movie_reviews, spam_sms, spam_emails])\n",
        "    _i = 0\n",
        "    for cur_first_dataset in datasets_names:\n",
        "        for cur_second_dataset in datasets_names:\n",
        "            _i += 1\n",
        "            print(_i, 'out of', len(datasets_names) ** 2, ':', \"Please, be patient! Working on comparing\", cur_first_dataset, 'with', cur_second_dataset)\n",
        "            df_with_second_method_results.loc[cur_first_dataset, cur_second_dataset] = cosine_similarity(np.mean(get_vector_representations(get_dataset_in_correct_form(cur_first_dataset)), axis = 0).reshape(1, -1),\n",
        "                                                                                                        np.mean(get_vector_representations(get_dataset_in_correct_form(cur_second_dataset)), axis = 0).reshape(1, -1))[0][0]\n",
        "    df_with_second_method_results.to_csv('/content/drive/MyDrive/data_for_colab/dataframes/second_approach/df_with_second_method_results.csv')\n",
        "else:\n",
        "    df_with_second_method_results = pd.read_csv('/content/drive/MyDrive/data_for_colab/dataframes/second_approach/df_with_second_method_results.csv')\n",
        "    df_with_second_method_results.set_index('Unnamed: 0', inplace=True)\n",
        "    df_with_second_method_results.index.names = [None]"
      ]
    },
    {
      "cell_type": "code",
      "execution_count": null,
      "metadata": {
        "id": "9M-4N-pBGYpy",
        "colab": {
          "base_uri": "https://localhost:8080/",
          "height": 174
        },
        "outputId": "21ff492f-a8e8-4c07-bd6a-dc7cf25672c6"
      },
      "outputs": [
        {
          "output_type": "execute_result",
          "data": {
            "text/plain": [
              "               hotel reviews  movie reviews  spam sms  spam emails\n",
              "hotel reviews       1.000000       0.767404  0.592511     0.782914\n",
              "movie reviews       0.767404       1.000000  0.729809     0.862794\n",
              "spam sms            0.592511       0.729809  1.000000     0.720972\n",
              "spam emails         0.782914       0.862794  0.720972     1.000000"
            ],
            "text/html": [
              "\n",
              "  <div id=\"df-3444190e-3f58-4545-add7-ca8c1cbf3c60\">\n",
              "    <div class=\"colab-df-container\">\n",
              "      <div>\n",
              "<style scoped>\n",
              "    .dataframe tbody tr th:only-of-type {\n",
              "        vertical-align: middle;\n",
              "    }\n",
              "\n",
              "    .dataframe tbody tr th {\n",
              "        vertical-align: top;\n",
              "    }\n",
              "\n",
              "    .dataframe thead th {\n",
              "        text-align: right;\n",
              "    }\n",
              "</style>\n",
              "<table border=\"1\" class=\"dataframe\">\n",
              "  <thead>\n",
              "    <tr style=\"text-align: right;\">\n",
              "      <th></th>\n",
              "      <th>hotel reviews</th>\n",
              "      <th>movie reviews</th>\n",
              "      <th>spam sms</th>\n",
              "      <th>spam emails</th>\n",
              "    </tr>\n",
              "  </thead>\n",
              "  <tbody>\n",
              "    <tr>\n",
              "      <th>hotel reviews</th>\n",
              "      <td>1.000000</td>\n",
              "      <td>0.767404</td>\n",
              "      <td>0.592511</td>\n",
              "      <td>0.782914</td>\n",
              "    </tr>\n",
              "    <tr>\n",
              "      <th>movie reviews</th>\n",
              "      <td>0.767404</td>\n",
              "      <td>1.000000</td>\n",
              "      <td>0.729809</td>\n",
              "      <td>0.862794</td>\n",
              "    </tr>\n",
              "    <tr>\n",
              "      <th>spam sms</th>\n",
              "      <td>0.592511</td>\n",
              "      <td>0.729809</td>\n",
              "      <td>1.000000</td>\n",
              "      <td>0.720972</td>\n",
              "    </tr>\n",
              "    <tr>\n",
              "      <th>spam emails</th>\n",
              "      <td>0.782914</td>\n",
              "      <td>0.862794</td>\n",
              "      <td>0.720972</td>\n",
              "      <td>1.000000</td>\n",
              "    </tr>\n",
              "  </tbody>\n",
              "</table>\n",
              "</div>\n",
              "      <button class=\"colab-df-convert\" onclick=\"convertToInteractive('df-3444190e-3f58-4545-add7-ca8c1cbf3c60')\"\n",
              "              title=\"Convert this dataframe to an interactive table.\"\n",
              "              style=\"display:none;\">\n",
              "        \n",
              "  <svg xmlns=\"http://www.w3.org/2000/svg\" height=\"24px\"viewBox=\"0 0 24 24\"\n",
              "       width=\"24px\">\n",
              "    <path d=\"M0 0h24v24H0V0z\" fill=\"none\"/>\n",
              "    <path d=\"M18.56 5.44l.94 2.06.94-2.06 2.06-.94-2.06-.94-.94-2.06-.94 2.06-2.06.94zm-11 1L8.5 8.5l.94-2.06 2.06-.94-2.06-.94L8.5 2.5l-.94 2.06-2.06.94zm10 10l.94 2.06.94-2.06 2.06-.94-2.06-.94-.94-2.06-.94 2.06-2.06.94z\"/><path d=\"M17.41 7.96l-1.37-1.37c-.4-.4-.92-.59-1.43-.59-.52 0-1.04.2-1.43.59L10.3 9.45l-7.72 7.72c-.78.78-.78 2.05 0 2.83L4 21.41c.39.39.9.59 1.41.59.51 0 1.02-.2 1.41-.59l7.78-7.78 2.81-2.81c.8-.78.8-2.07 0-2.86zM5.41 20L4 18.59l7.72-7.72 1.47 1.35L5.41 20z\"/>\n",
              "  </svg>\n",
              "      </button>\n",
              "      \n",
              "  <style>\n",
              "    .colab-df-container {\n",
              "      display:flex;\n",
              "      flex-wrap:wrap;\n",
              "      gap: 12px;\n",
              "    }\n",
              "\n",
              "    .colab-df-convert {\n",
              "      background-color: #E8F0FE;\n",
              "      border: none;\n",
              "      border-radius: 50%;\n",
              "      cursor: pointer;\n",
              "      display: none;\n",
              "      fill: #1967D2;\n",
              "      height: 32px;\n",
              "      padding: 0 0 0 0;\n",
              "      width: 32px;\n",
              "    }\n",
              "\n",
              "    .colab-df-convert:hover {\n",
              "      background-color: #E2EBFA;\n",
              "      box-shadow: 0px 1px 2px rgba(60, 64, 67, 0.3), 0px 1px 3px 1px rgba(60, 64, 67, 0.15);\n",
              "      fill: #174EA6;\n",
              "    }\n",
              "\n",
              "    [theme=dark] .colab-df-convert {\n",
              "      background-color: #3B4455;\n",
              "      fill: #D2E3FC;\n",
              "    }\n",
              "\n",
              "    [theme=dark] .colab-df-convert:hover {\n",
              "      background-color: #434B5C;\n",
              "      box-shadow: 0px 1px 3px 1px rgba(0, 0, 0, 0.15);\n",
              "      filter: drop-shadow(0px 1px 2px rgba(0, 0, 0, 0.3));\n",
              "      fill: #FFFFFF;\n",
              "    }\n",
              "  </style>\n",
              "\n",
              "      <script>\n",
              "        const buttonEl =\n",
              "          document.querySelector('#df-3444190e-3f58-4545-add7-ca8c1cbf3c60 button.colab-df-convert');\n",
              "        buttonEl.style.display =\n",
              "          google.colab.kernel.accessAllowed ? 'block' : 'none';\n",
              "\n",
              "        async function convertToInteractive(key) {\n",
              "          const element = document.querySelector('#df-3444190e-3f58-4545-add7-ca8c1cbf3c60');\n",
              "          const dataTable =\n",
              "            await google.colab.kernel.invokeFunction('convertToInteractive',\n",
              "                                                     [key], {});\n",
              "          if (!dataTable) return;\n",
              "\n",
              "          const docLinkHtml = 'Like what you see? Visit the ' +\n",
              "            '<a target=\"_blank\" href=https://colab.research.google.com/notebooks/data_table.ipynb>data table notebook</a>'\n",
              "            + ' to learn more about interactive tables.';\n",
              "          element.innerHTML = '';\n",
              "          dataTable['output_type'] = 'display_data';\n",
              "          await google.colab.output.renderOutput(dataTable, element);\n",
              "          const docLink = document.createElement('div');\n",
              "          docLink.innerHTML = docLinkHtml;\n",
              "          element.appendChild(docLink);\n",
              "        }\n",
              "      </script>\n",
              "    </div>\n",
              "  </div>\n",
              "  "
            ]
          },
          "metadata": {},
          "execution_count": 13
        }
      ],
      "source": [
        "df_with_second_method_results"
      ]
    },
    {
      "cell_type": "code",
      "source": [
        "df_with_second_method_results"
      ],
      "metadata": {
        "id": "HNLJY8nOnfuP",
        "colab": {
          "base_uri": "https://localhost:8080/",
          "height": 174
        },
        "outputId": "e791af77-8862-4368-8100-2bd78e6d8fef"
      },
      "execution_count": null,
      "outputs": [
        {
          "output_type": "execute_result",
          "data": {
            "text/plain": [
              "               hotel reviews  movie reviews  spam sms  spam emails\n",
              "hotel reviews       1.000000       0.767404  0.592511     0.782914\n",
              "movie reviews       0.767404       1.000000  0.729809     0.862794\n",
              "spam sms            0.592511       0.729809  1.000000     0.720972\n",
              "spam emails         0.782914       0.862794  0.720972     1.000000"
            ],
            "text/html": [
              "\n",
              "  <div id=\"df-b9c619af-1bdc-4210-a8bc-1145e978e106\">\n",
              "    <div class=\"colab-df-container\">\n",
              "      <div>\n",
              "<style scoped>\n",
              "    .dataframe tbody tr th:only-of-type {\n",
              "        vertical-align: middle;\n",
              "    }\n",
              "\n",
              "    .dataframe tbody tr th {\n",
              "        vertical-align: top;\n",
              "    }\n",
              "\n",
              "    .dataframe thead th {\n",
              "        text-align: right;\n",
              "    }\n",
              "</style>\n",
              "<table border=\"1\" class=\"dataframe\">\n",
              "  <thead>\n",
              "    <tr style=\"text-align: right;\">\n",
              "      <th></th>\n",
              "      <th>hotel reviews</th>\n",
              "      <th>movie reviews</th>\n",
              "      <th>spam sms</th>\n",
              "      <th>spam emails</th>\n",
              "    </tr>\n",
              "  </thead>\n",
              "  <tbody>\n",
              "    <tr>\n",
              "      <th>hotel reviews</th>\n",
              "      <td>1.000000</td>\n",
              "      <td>0.767404</td>\n",
              "      <td>0.592511</td>\n",
              "      <td>0.782914</td>\n",
              "    </tr>\n",
              "    <tr>\n",
              "      <th>movie reviews</th>\n",
              "      <td>0.767404</td>\n",
              "      <td>1.000000</td>\n",
              "      <td>0.729809</td>\n",
              "      <td>0.862794</td>\n",
              "    </tr>\n",
              "    <tr>\n",
              "      <th>spam sms</th>\n",
              "      <td>0.592511</td>\n",
              "      <td>0.729809</td>\n",
              "      <td>1.000000</td>\n",
              "      <td>0.720972</td>\n",
              "    </tr>\n",
              "    <tr>\n",
              "      <th>spam emails</th>\n",
              "      <td>0.782914</td>\n",
              "      <td>0.862794</td>\n",
              "      <td>0.720972</td>\n",
              "      <td>1.000000</td>\n",
              "    </tr>\n",
              "  </tbody>\n",
              "</table>\n",
              "</div>\n",
              "      <button class=\"colab-df-convert\" onclick=\"convertToInteractive('df-b9c619af-1bdc-4210-a8bc-1145e978e106')\"\n",
              "              title=\"Convert this dataframe to an interactive table.\"\n",
              "              style=\"display:none;\">\n",
              "        \n",
              "  <svg xmlns=\"http://www.w3.org/2000/svg\" height=\"24px\"viewBox=\"0 0 24 24\"\n",
              "       width=\"24px\">\n",
              "    <path d=\"M0 0h24v24H0V0z\" fill=\"none\"/>\n",
              "    <path d=\"M18.56 5.44l.94 2.06.94-2.06 2.06-.94-2.06-.94-.94-2.06-.94 2.06-2.06.94zm-11 1L8.5 8.5l.94-2.06 2.06-.94-2.06-.94L8.5 2.5l-.94 2.06-2.06.94zm10 10l.94 2.06.94-2.06 2.06-.94-2.06-.94-.94-2.06-.94 2.06-2.06.94z\"/><path d=\"M17.41 7.96l-1.37-1.37c-.4-.4-.92-.59-1.43-.59-.52 0-1.04.2-1.43.59L10.3 9.45l-7.72 7.72c-.78.78-.78 2.05 0 2.83L4 21.41c.39.39.9.59 1.41.59.51 0 1.02-.2 1.41-.59l7.78-7.78 2.81-2.81c.8-.78.8-2.07 0-2.86zM5.41 20L4 18.59l7.72-7.72 1.47 1.35L5.41 20z\"/>\n",
              "  </svg>\n",
              "      </button>\n",
              "      \n",
              "  <style>\n",
              "    .colab-df-container {\n",
              "      display:flex;\n",
              "      flex-wrap:wrap;\n",
              "      gap: 12px;\n",
              "    }\n",
              "\n",
              "    .colab-df-convert {\n",
              "      background-color: #E8F0FE;\n",
              "      border: none;\n",
              "      border-radius: 50%;\n",
              "      cursor: pointer;\n",
              "      display: none;\n",
              "      fill: #1967D2;\n",
              "      height: 32px;\n",
              "      padding: 0 0 0 0;\n",
              "      width: 32px;\n",
              "    }\n",
              "\n",
              "    .colab-df-convert:hover {\n",
              "      background-color: #E2EBFA;\n",
              "      box-shadow: 0px 1px 2px rgba(60, 64, 67, 0.3), 0px 1px 3px 1px rgba(60, 64, 67, 0.15);\n",
              "      fill: #174EA6;\n",
              "    }\n",
              "\n",
              "    [theme=dark] .colab-df-convert {\n",
              "      background-color: #3B4455;\n",
              "      fill: #D2E3FC;\n",
              "    }\n",
              "\n",
              "    [theme=dark] .colab-df-convert:hover {\n",
              "      background-color: #434B5C;\n",
              "      box-shadow: 0px 1px 3px 1px rgba(0, 0, 0, 0.15);\n",
              "      filter: drop-shadow(0px 1px 2px rgba(0, 0, 0, 0.3));\n",
              "      fill: #FFFFFF;\n",
              "    }\n",
              "  </style>\n",
              "\n",
              "      <script>\n",
              "        const buttonEl =\n",
              "          document.querySelector('#df-b9c619af-1bdc-4210-a8bc-1145e978e106 button.colab-df-convert');\n",
              "        buttonEl.style.display =\n",
              "          google.colab.kernel.accessAllowed ? 'block' : 'none';\n",
              "\n",
              "        async function convertToInteractive(key) {\n",
              "          const element = document.querySelector('#df-b9c619af-1bdc-4210-a8bc-1145e978e106');\n",
              "          const dataTable =\n",
              "            await google.colab.kernel.invokeFunction('convertToInteractive',\n",
              "                                                     [key], {});\n",
              "          if (!dataTable) return;\n",
              "\n",
              "          const docLinkHtml = 'Like what you see? Visit the ' +\n",
              "            '<a target=\"_blank\" href=https://colab.research.google.com/notebooks/data_table.ipynb>data table notebook</a>'\n",
              "            + ' to learn more about interactive tables.';\n",
              "          element.innerHTML = '';\n",
              "          dataTable['output_type'] = 'display_data';\n",
              "          await google.colab.output.renderOutput(dataTable, element);\n",
              "          const docLink = document.createElement('div');\n",
              "          docLink.innerHTML = docLinkHtml;\n",
              "          element.appendChild(docLink);\n",
              "        }\n",
              "      </script>\n",
              "    </div>\n",
              "  </div>\n",
              "  "
            ]
          },
          "metadata": {},
          "execution_count": 14
        }
      ]
    },
    {
      "cell_type": "markdown",
      "source": [
        "# Исследуем эффективность метода для сходства датасетов во втором смысле\n"
      ],
      "metadata": {
        "id": "ENQ1EfHbmg_q"
      }
    },
    {
      "cell_type": "code",
      "source": [
        "def get_f1_score_values_from_df_from_additional_research(df_name: str):\n",
        "    cur_df = pd.read_csv('/content/drive/MyDrive/data_for_colab/dataframes/additional_research/' + df_name + '.csv')\n",
        "    cur_df.set_index('Unnamed: 0', inplace=True)\n",
        "    cur_df.index.names = [None]\n",
        "    return cur_df.f1_score.values\n"
      ],
      "metadata": {
        "id": "u5joMlwonlUP"
      },
      "execution_count": null,
      "outputs": []
    },
    {
      "cell_type": "code",
      "source": [
        "list_of_dataset_names_with_underscore = ['hotel_reviews', 'movie_reviews', 'spam_sms', 'spam_emails']\n",
        "\n",
        "list_of_correlations_for_mean_absolute_quality_difference_and_first_method_result = list()\n",
        "list_of_correlations_for_median_absolute_quality_difference_and_first_method_result = list()\n",
        "list_of_correlations_for_mean_relative_quality_difference_and_first_method_result = list()\n",
        "list_of_correlations_for_median_relative_quality_difference_and_first_method_result = list()\n",
        "\n",
        "for index_for_num in range(1):\n",
        "    list_of_mean_f1_score_absolute_difference_values = list()\n",
        "    list_of_median_f1_score_absolute_difference_values = list()\n",
        "    list_of_mean_f1_score_relative_difference_values = list()\n",
        "    list_of_median_f1_score_relative_difference_values = list()\n",
        "    list_of_method_results = list()\n",
        "    for first_dataset_name in list_of_dataset_names_with_underscore:\n",
        "        for second_dataset_name in list_of_dataset_names_with_underscore:\n",
        "            if first_dataset_name != second_dataset_name:\n",
        "                pair_of_datasets = first_dataset_name + '_to_' + second_dataset_name\n",
        "                pair_of_datasets = pair_of_datasets.replace('spam_', '')\n",
        "\n",
        "                # absolute quality difference: mean result\n",
        "                df_name = 'df_absolute_quality_difference_when_switching_from_' + pair_of_datasets\n",
        "                mean_f1_score_value = get_f1_score_values_from_df_from_additional_research(df_name).mean()\n",
        "                list_of_mean_f1_score_absolute_difference_values.append(mean_f1_score_value)\n",
        "                # absolute quality difference: median result\n",
        "                median_f1_score_value = np.median(get_f1_score_values_from_df_from_additional_research(df_name))\n",
        "                list_of_median_f1_score_absolute_difference_values.append(median_f1_score_value)\n",
        "\n",
        "                # relative quality difference: mean result\n",
        "                df_name = 'df_relative_quality_difference_in_percent_when_switching_from_' + pair_of_datasets\n",
        "                mean_f1_score_value = get_f1_score_values_from_df_from_additional_research(df_name).mean()\n",
        "                list_of_mean_f1_score_relative_difference_values.append(mean_f1_score_value)\n",
        "                # relative quality difference: median result\n",
        "                median_f1_score_value = np.median(get_f1_score_values_from_df_from_additional_research(df_name))\n",
        "                list_of_median_f1_score_relative_difference_values.append(median_f1_score_value)\n",
        "                \n",
        "                first_dataset_name_without_underscore = first_dataset_name.replace('_', ' ')\n",
        "                second_dataset_name_without_underscore = second_dataset_name.replace('_', ' ')\n",
        "                method_result = df_with_second_method_results.loc[first_dataset_name_without_underscore, second_dataset_name_without_underscore]\n",
        "                list_of_method_results.append(method_result)\n",
        "\n",
        "    # absolute quality difference: mean result\n",
        "    correlation = np.corrcoef(list_of_method_results, list_of_mean_f1_score_absolute_difference_values)[0, 1]\n",
        "    list_of_correlations_for_mean_absolute_quality_difference_and_first_method_result.append(correlation)\n",
        "    # absolute quality difference: median result\n",
        "    correlation = np.corrcoef(list_of_method_results, list_of_median_f1_score_absolute_difference_values)[0, 1]\n",
        "    list_of_correlations_for_median_absolute_quality_difference_and_first_method_result.append(correlation)\n",
        "    # relative quality difference: mean result\n",
        "    correlation = np.corrcoef(list_of_method_results, list_of_mean_f1_score_relative_difference_values)[0, 1]\n",
        "    list_of_correlations_for_mean_relative_quality_difference_and_first_method_result.append(correlation)\n",
        "    # relative quality difference: median result\n",
        "    correlation = np.corrcoef(list_of_method_results, list_of_median_f1_score_relative_difference_values)[0, 1]\n",
        "    list_of_correlations_for_median_relative_quality_difference_and_first_method_result.append(correlation)\n",
        "\n",
        "\n"
      ],
      "metadata": {
        "id": "IMnQRBXYmkd6"
      },
      "execution_count": null,
      "outputs": []
    },
    {
      "cell_type": "code",
      "source": [
        "list_of_correlations_for_mean_absolute_quality_difference_and_first_method_result"
      ],
      "metadata": {
        "colab": {
          "base_uri": "https://localhost:8080/"
        },
        "id": "rgNML9Zblzds",
        "outputId": "ca7182a7-d25b-4594-ca9e-3688e92ecd53"
      },
      "execution_count": null,
      "outputs": [
        {
          "output_type": "execute_result",
          "data": {
            "text/plain": [
              "[-1.5197439593862942e-17]"
            ]
          },
          "metadata": {},
          "execution_count": 17
        }
      ]
    },
    {
      "cell_type": "code",
      "source": [
        "list_of_correlations_for_median_absolute_quality_difference_and_first_method_result"
      ],
      "metadata": {
        "colab": {
          "base_uri": "https://localhost:8080/"
        },
        "id": "GecGluWonKLo",
        "outputId": "2652d3a1-5257-4d02-b910-bbc343d48311"
      },
      "execution_count": null,
      "outputs": [
        {
          "output_type": "execute_result",
          "data": {
            "text/plain": [
              "[2.017388086523622e-17]"
            ]
          },
          "metadata": {},
          "execution_count": 18
        }
      ]
    },
    {
      "cell_type": "code",
      "source": [
        "list_of_correlations_for_mean_relative_quality_difference_and_first_method_result"
      ],
      "metadata": {
        "colab": {
          "base_uri": "https://localhost:8080/"
        },
        "id": "JQnPoTeSnKJB",
        "outputId": "606a9da0-e800-4020-dcff-48e588c3a511"
      },
      "execution_count": null,
      "outputs": [
        {
          "output_type": "execute_result",
          "data": {
            "text/plain": [
              "[0.0023648588529360352]"
            ]
          },
          "metadata": {},
          "execution_count": 19
        }
      ]
    },
    {
      "cell_type": "code",
      "source": [
        "list_of_correlations_for_median_relative_quality_difference_and_first_method_result"
      ],
      "metadata": {
        "colab": {
          "base_uri": "https://localhost:8080/"
        },
        "id": "cv7pG-y-nKHU",
        "outputId": "c586bc81-34bd-438d-ae33-21477d79480d"
      },
      "execution_count": null,
      "outputs": [
        {
          "output_type": "execute_result",
          "data": {
            "text/plain": [
              "[0.010379109681917582]"
            ]
          },
          "metadata": {},
          "execution_count": 20
        }
      ]
    },
    {
      "cell_type": "markdown",
      "source": [
        "**Вывод:** для сходства датасетов во втором смысле не подходит. Это не удивительно. Было бы странно его применять для сходства датасетов во втором смысле, потому что этот метод симметричный (а сходство датасетов во втором смысле – не симметрично). \n",
        "\n"
      ],
      "metadata": {
        "id": "dvNcZEmHqVAy"
      }
    },
    {
      "cell_type": "markdown",
      "source": [
        "# Исследуем эффективность метода для сходства датасетов в первом смысле"
      ],
      "metadata": {
        "id": "WUT671mkqpgP"
      }
    },
    {
      "cell_type": "markdown",
      "source": [
        "Итерируемся по парам, у которой эл-ты из одной и той же серии экспериментов.\n",
        "По аналогии с исследованием корреляции для сходства датасетов во втором смысле делаем."
      ],
      "metadata": {
        "id": "Ol17yn-mcx8L"
      }
    },
    {
      "cell_type": "code",
      "source": [],
      "metadata": {
        "id": "Py92pgkhnO4K"
      },
      "execution_count": null,
      "outputs": []
    },
    {
      "cell_type": "code",
      "source": [],
      "metadata": {
        "id": "6q11ga64nO2N"
      },
      "execution_count": null,
      "outputs": []
    }
  ],
  "metadata": {
    "colab": {
      "provenance": []
    },
    "kernelspec": {
      "display_name": "Python 3",
      "name": "python3"
    },
    "language_info": {
      "name": "python"
    }
  },
  "nbformat": 4,
  "nbformat_minor": 0
}